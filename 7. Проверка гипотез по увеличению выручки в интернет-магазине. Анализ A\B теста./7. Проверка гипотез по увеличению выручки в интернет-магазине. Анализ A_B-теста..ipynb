{
 "cells": [
  {
   "cell_type": "markdown",
   "metadata": {},
   "source": [
    "# Проверка гипотез по увеличению выручки в интернет-магазине. Анализ A/B-теста."
   ]
  },
  {
   "cell_type": "markdown",
   "metadata": {},
   "source": [
    "Отдел маркетинга подготовил список гипотез для увеличения выручки.\n",
    "\n",
    "***Задача:*** Приоритизировать гипотезы, запустить A/B-тест и проанализировать результаты.\n",
    "\n",
    "***Описание данных:***\n",
    "\n",
    "Файл ***/datasets/hypothesis.csv*** хранит 9 гипотез по увеличению выручки интернет-магазина с указанными параметрами Reach, Impact, Confidence, Effort:\n",
    "\n",
    "* `Hypothesis` — краткое описание гипотезы,\n",
    "* `Reach` —  охват пользователей по 10-балльной шкале,\n",
    "* `Impact` — влияние на пользователей по 10-балльной шкале,\n",
    "* `Confidence` — уверенность в гипотезе по 10-балльной шкале,\n",
    "* `Efforts` — затраты ресурсов на проверку гипотезы по 10-балльной шкале. Чем больше значение Efforts, тем дороже проверка гипотезы.\n",
    "\n",
    "\n",
    "Файл ***/datasets/orders.csv*** хранит информацию о результатах проведенного A/B-теста:\n",
    "\n",
    "* `transactionId` —  идентификатор заказа,\n",
    "* `visitorId` — идентификатор пользователя, совершившего заказ,\n",
    "* `date`   — дата, когда был совершён заказ,  \n",
    "* `revenue` — выручка заказа,\n",
    "* `group` — группа A/B-теста, в которую попал заказ.\n",
    "\n",
    "Файл ***/datasets/visitors.csv*** хранит информацию о результатах проведенного A/B-теста:\n",
    "\n",
    "* `date` — дата,\n",
    "* `group` —  группа A/B-теста,\n",
    "* `visitors` — количество пользователей в указанную дату в указанной группе A/B-теста."
   ]
  },
  {
   "cell_type": "markdown",
   "metadata": {},
   "source": [
    "### Загрузим данные и подготовим их к анализу"
   ]
  },
  {
   "cell_type": "markdown",
   "metadata": {},
   "source": [
    "Изучим данные и выполним предобработку. Есть ли в данных пропуски и дубликаты? Убедимся, что типы данных во всех колонках соответствуют сохранённым в них значениям. Обратим внимание на столбцы с датой и временем."
   ]
  },
  {
   "cell_type": "code",
   "execution_count": 1,
   "metadata": {},
   "outputs": [],
   "source": [
    "import pandas as pd\n",
    "import numpy as np\n",
    "from datetime import datetime, timedelta\n",
    "from matplotlib import pyplot as plt\n",
    "import scipy.stats as stats\n",
    "import seaborn as sns\n"
   ]
  },
  {
   "cell_type": "code",
   "execution_count": 2,
   "metadata": {},
   "outputs": [],
   "source": [
    "try:\n",
    "    hypothesis, orders, visitors = (\n",
    "    pd.read_csv('hypothesis.csv'), \n",
    "    pd.read_csv('orders.csv'), \n",
    "    pd.read_csv('visitors.csv')\n",
    "    )  \n",
    "except:\n",
    "    hypothesis, orders, visitors = (\n",
    "    pd.read_csv('/datasets/hypothesis.csv'), \n",
    "    pd.read_csv('/datasets/orders.csv'), \n",
    "    pd.read_csv('/datasets/visitors.csv')\n",
    "    )  "
   ]
  },
  {
   "cell_type": "code",
   "execution_count": 3,
   "metadata": {},
   "outputs": [
    {
     "data": {
      "text/html": [
       "<div>\n",
       "<style scoped>\n",
       "    .dataframe tbody tr th:only-of-type {\n",
       "        vertical-align: middle;\n",
       "    }\n",
       "\n",
       "    .dataframe tbody tr th {\n",
       "        vertical-align: top;\n",
       "    }\n",
       "\n",
       "    .dataframe thead th {\n",
       "        text-align: right;\n",
       "    }\n",
       "</style>\n",
       "<table border=\"1\" class=\"dataframe\">\n",
       "  <thead>\n",
       "    <tr style=\"text-align: right;\">\n",
       "      <th></th>\n",
       "      <th>Hypothesis</th>\n",
       "      <th>Reach</th>\n",
       "      <th>Impact</th>\n",
       "      <th>Confidence</th>\n",
       "      <th>Efforts</th>\n",
       "    </tr>\n",
       "  </thead>\n",
       "  <tbody>\n",
       "    <tr>\n",
       "      <th>0</th>\n",
       "      <td>Добавить два новых канала привлечения трафика,...</td>\n",
       "      <td>3</td>\n",
       "      <td>10</td>\n",
       "      <td>8</td>\n",
       "      <td>6</td>\n",
       "    </tr>\n",
       "    <tr>\n",
       "      <th>1</th>\n",
       "      <td>Запустить собственную службу доставки, что сок...</td>\n",
       "      <td>2</td>\n",
       "      <td>5</td>\n",
       "      <td>4</td>\n",
       "      <td>10</td>\n",
       "    </tr>\n",
       "    <tr>\n",
       "      <th>2</th>\n",
       "      <td>Добавить блоки рекомендаций товаров на сайт ин...</td>\n",
       "      <td>8</td>\n",
       "      <td>3</td>\n",
       "      <td>7</td>\n",
       "      <td>3</td>\n",
       "    </tr>\n",
       "    <tr>\n",
       "      <th>3</th>\n",
       "      <td>Изменить структура категорий, что увеличит кон...</td>\n",
       "      <td>8</td>\n",
       "      <td>3</td>\n",
       "      <td>3</td>\n",
       "      <td>8</td>\n",
       "    </tr>\n",
       "    <tr>\n",
       "      <th>4</th>\n",
       "      <td>Изменить цвет фона главной страницы, чтобы уве...</td>\n",
       "      <td>3</td>\n",
       "      <td>1</td>\n",
       "      <td>1</td>\n",
       "      <td>1</td>\n",
       "    </tr>\n",
       "    <tr>\n",
       "      <th>5</th>\n",
       "      <td>Добавить страницу отзывов клиентов о магазине,...</td>\n",
       "      <td>3</td>\n",
       "      <td>2</td>\n",
       "      <td>2</td>\n",
       "      <td>3</td>\n",
       "    </tr>\n",
       "    <tr>\n",
       "      <th>6</th>\n",
       "      <td>Показать на главной странице баннеры с актуаль...</td>\n",
       "      <td>5</td>\n",
       "      <td>3</td>\n",
       "      <td>8</td>\n",
       "      <td>3</td>\n",
       "    </tr>\n",
       "    <tr>\n",
       "      <th>7</th>\n",
       "      <td>Добавить форму подписки на все основные страни...</td>\n",
       "      <td>10</td>\n",
       "      <td>7</td>\n",
       "      <td>8</td>\n",
       "      <td>5</td>\n",
       "    </tr>\n",
       "    <tr>\n",
       "      <th>8</th>\n",
       "      <td>Запустить акцию, дающую скидку на товар в день...</td>\n",
       "      <td>1</td>\n",
       "      <td>9</td>\n",
       "      <td>9</td>\n",
       "      <td>5</td>\n",
       "    </tr>\n",
       "  </tbody>\n",
       "</table>\n",
       "</div>"
      ],
      "text/plain": [
       "                                          Hypothesis  Reach  Impact  \\\n",
       "0  Добавить два новых канала привлечения трафика,...      3      10   \n",
       "1  Запустить собственную службу доставки, что сок...      2       5   \n",
       "2  Добавить блоки рекомендаций товаров на сайт ин...      8       3   \n",
       "3  Изменить структура категорий, что увеличит кон...      8       3   \n",
       "4  Изменить цвет фона главной страницы, чтобы уве...      3       1   \n",
       "5  Добавить страницу отзывов клиентов о магазине,...      3       2   \n",
       "6  Показать на главной странице баннеры с актуаль...      5       3   \n",
       "7  Добавить форму подписки на все основные страни...     10       7   \n",
       "8  Запустить акцию, дающую скидку на товар в день...      1       9   \n",
       "\n",
       "   Confidence  Efforts  \n",
       "0           8        6  \n",
       "1           4       10  \n",
       "2           7        3  \n",
       "3           3        8  \n",
       "4           1        1  \n",
       "5           2        3  \n",
       "6           8        3  \n",
       "7           8        5  \n",
       "8           9        5  "
      ]
     },
     "metadata": {},
     "output_type": "display_data"
    },
    {
     "name": "stdout",
     "output_type": "stream",
     "text": [
      "<class 'pandas.core.frame.DataFrame'>\n",
      "RangeIndex: 9 entries, 0 to 8\n",
      "Data columns (total 5 columns):\n",
      " #   Column      Non-Null Count  Dtype \n",
      "---  ------      --------------  ----- \n",
      " 0   Hypothesis  9 non-null      object\n",
      " 1   Reach       9 non-null      int64 \n",
      " 2   Impact      9 non-null      int64 \n",
      " 3   Confidence  9 non-null      int64 \n",
      " 4   Efforts     9 non-null      int64 \n",
      "dtypes: int64(4), object(1)\n",
      "memory usage: 488.0+ bytes\n",
      "None\n",
      "Количество дубликатов: 0\n"
     ]
    }
   ],
   "source": [
    "def data_exploration(df):\n",
    "    display(df.head(10))\n",
    "    print(df.info())\n",
    "    print('Количество дубликатов:',df.duplicated().sum());\n",
    "data_exploration(hypothesis)"
   ]
  },
  {
   "cell_type": "code",
   "execution_count": 4,
   "metadata": {},
   "outputs": [
    {
     "data": {
      "text/html": [
       "<div>\n",
       "<style scoped>\n",
       "    .dataframe tbody tr th:only-of-type {\n",
       "        vertical-align: middle;\n",
       "    }\n",
       "\n",
       "    .dataframe tbody tr th {\n",
       "        vertical-align: top;\n",
       "    }\n",
       "\n",
       "    .dataframe thead th {\n",
       "        text-align: right;\n",
       "    }\n",
       "</style>\n",
       "<table border=\"1\" class=\"dataframe\">\n",
       "  <thead>\n",
       "    <tr style=\"text-align: right;\">\n",
       "      <th></th>\n",
       "      <th>transactionId</th>\n",
       "      <th>visitorId</th>\n",
       "      <th>date</th>\n",
       "      <th>revenue</th>\n",
       "      <th>group</th>\n",
       "    </tr>\n",
       "  </thead>\n",
       "  <tbody>\n",
       "    <tr>\n",
       "      <th>0</th>\n",
       "      <td>3667963787</td>\n",
       "      <td>3312258926</td>\n",
       "      <td>2019-08-15</td>\n",
       "      <td>1650</td>\n",
       "      <td>B</td>\n",
       "    </tr>\n",
       "    <tr>\n",
       "      <th>1</th>\n",
       "      <td>2804400009</td>\n",
       "      <td>3642806036</td>\n",
       "      <td>2019-08-15</td>\n",
       "      <td>730</td>\n",
       "      <td>B</td>\n",
       "    </tr>\n",
       "    <tr>\n",
       "      <th>2</th>\n",
       "      <td>2961555356</td>\n",
       "      <td>4069496402</td>\n",
       "      <td>2019-08-15</td>\n",
       "      <td>400</td>\n",
       "      <td>A</td>\n",
       "    </tr>\n",
       "    <tr>\n",
       "      <th>3</th>\n",
       "      <td>3797467345</td>\n",
       "      <td>1196621759</td>\n",
       "      <td>2019-08-15</td>\n",
       "      <td>9759</td>\n",
       "      <td>B</td>\n",
       "    </tr>\n",
       "    <tr>\n",
       "      <th>4</th>\n",
       "      <td>2282983706</td>\n",
       "      <td>2322279887</td>\n",
       "      <td>2019-08-15</td>\n",
       "      <td>2308</td>\n",
       "      <td>B</td>\n",
       "    </tr>\n",
       "    <tr>\n",
       "      <th>5</th>\n",
       "      <td>182168103</td>\n",
       "      <td>935554773</td>\n",
       "      <td>2019-08-15</td>\n",
       "      <td>2210</td>\n",
       "      <td>B</td>\n",
       "    </tr>\n",
       "    <tr>\n",
       "      <th>6</th>\n",
       "      <td>398296753</td>\n",
       "      <td>2900797465</td>\n",
       "      <td>2019-08-15</td>\n",
       "      <td>1860</td>\n",
       "      <td>B</td>\n",
       "    </tr>\n",
       "    <tr>\n",
       "      <th>7</th>\n",
       "      <td>2626614568</td>\n",
       "      <td>78758296</td>\n",
       "      <td>2019-08-15</td>\n",
       "      <td>1044</td>\n",
       "      <td>A</td>\n",
       "    </tr>\n",
       "    <tr>\n",
       "      <th>8</th>\n",
       "      <td>1576988021</td>\n",
       "      <td>295230930</td>\n",
       "      <td>2019-08-15</td>\n",
       "      <td>13710</td>\n",
       "      <td>A</td>\n",
       "    </tr>\n",
       "    <tr>\n",
       "      <th>9</th>\n",
       "      <td>1506739906</td>\n",
       "      <td>1882260405</td>\n",
       "      <td>2019-08-15</td>\n",
       "      <td>1855</td>\n",
       "      <td>B</td>\n",
       "    </tr>\n",
       "  </tbody>\n",
       "</table>\n",
       "</div>"
      ],
      "text/plain": [
       "   transactionId   visitorId        date  revenue group\n",
       "0     3667963787  3312258926  2019-08-15     1650     B\n",
       "1     2804400009  3642806036  2019-08-15      730     B\n",
       "2     2961555356  4069496402  2019-08-15      400     A\n",
       "3     3797467345  1196621759  2019-08-15     9759     B\n",
       "4     2282983706  2322279887  2019-08-15     2308     B\n",
       "5      182168103   935554773  2019-08-15     2210     B\n",
       "6      398296753  2900797465  2019-08-15     1860     B\n",
       "7     2626614568    78758296  2019-08-15     1044     A\n",
       "8     1576988021   295230930  2019-08-15    13710     A\n",
       "9     1506739906  1882260405  2019-08-15     1855     B"
      ]
     },
     "metadata": {},
     "output_type": "display_data"
    },
    {
     "name": "stdout",
     "output_type": "stream",
     "text": [
      "<class 'pandas.core.frame.DataFrame'>\n",
      "RangeIndex: 1197 entries, 0 to 1196\n",
      "Data columns (total 5 columns):\n",
      " #   Column         Non-Null Count  Dtype \n",
      "---  ------         --------------  ----- \n",
      " 0   transactionId  1197 non-null   int64 \n",
      " 1   visitorId      1197 non-null   int64 \n",
      " 2   date           1197 non-null   object\n",
      " 3   revenue        1197 non-null   int64 \n",
      " 4   group          1197 non-null   object\n",
      "dtypes: int64(3), object(2)\n",
      "memory usage: 46.9+ KB\n",
      "None\n",
      "Количество дубликатов: 0\n"
     ]
    }
   ],
   "source": [
    "data_exploration(orders)"
   ]
  },
  {
   "cell_type": "code",
   "execution_count": 5,
   "metadata": {},
   "outputs": [
    {
     "data": {
      "text/html": [
       "<div>\n",
       "<style scoped>\n",
       "    .dataframe tbody tr th:only-of-type {\n",
       "        vertical-align: middle;\n",
       "    }\n",
       "\n",
       "    .dataframe tbody tr th {\n",
       "        vertical-align: top;\n",
       "    }\n",
       "\n",
       "    .dataframe thead th {\n",
       "        text-align: right;\n",
       "    }\n",
       "</style>\n",
       "<table border=\"1\" class=\"dataframe\">\n",
       "  <thead>\n",
       "    <tr style=\"text-align: right;\">\n",
       "      <th></th>\n",
       "      <th>date</th>\n",
       "      <th>group</th>\n",
       "      <th>visitors</th>\n",
       "    </tr>\n",
       "  </thead>\n",
       "  <tbody>\n",
       "    <tr>\n",
       "      <th>0</th>\n",
       "      <td>2019-08-01</td>\n",
       "      <td>A</td>\n",
       "      <td>719</td>\n",
       "    </tr>\n",
       "    <tr>\n",
       "      <th>1</th>\n",
       "      <td>2019-08-02</td>\n",
       "      <td>A</td>\n",
       "      <td>619</td>\n",
       "    </tr>\n",
       "    <tr>\n",
       "      <th>2</th>\n",
       "      <td>2019-08-03</td>\n",
       "      <td>A</td>\n",
       "      <td>507</td>\n",
       "    </tr>\n",
       "    <tr>\n",
       "      <th>3</th>\n",
       "      <td>2019-08-04</td>\n",
       "      <td>A</td>\n",
       "      <td>717</td>\n",
       "    </tr>\n",
       "    <tr>\n",
       "      <th>4</th>\n",
       "      <td>2019-08-05</td>\n",
       "      <td>A</td>\n",
       "      <td>756</td>\n",
       "    </tr>\n",
       "    <tr>\n",
       "      <th>5</th>\n",
       "      <td>2019-08-06</td>\n",
       "      <td>A</td>\n",
       "      <td>667</td>\n",
       "    </tr>\n",
       "    <tr>\n",
       "      <th>6</th>\n",
       "      <td>2019-08-07</td>\n",
       "      <td>A</td>\n",
       "      <td>644</td>\n",
       "    </tr>\n",
       "    <tr>\n",
       "      <th>7</th>\n",
       "      <td>2019-08-08</td>\n",
       "      <td>A</td>\n",
       "      <td>610</td>\n",
       "    </tr>\n",
       "    <tr>\n",
       "      <th>8</th>\n",
       "      <td>2019-08-09</td>\n",
       "      <td>A</td>\n",
       "      <td>617</td>\n",
       "    </tr>\n",
       "    <tr>\n",
       "      <th>9</th>\n",
       "      <td>2019-08-10</td>\n",
       "      <td>A</td>\n",
       "      <td>406</td>\n",
       "    </tr>\n",
       "  </tbody>\n",
       "</table>\n",
       "</div>"
      ],
      "text/plain": [
       "         date group  visitors\n",
       "0  2019-08-01     A       719\n",
       "1  2019-08-02     A       619\n",
       "2  2019-08-03     A       507\n",
       "3  2019-08-04     A       717\n",
       "4  2019-08-05     A       756\n",
       "5  2019-08-06     A       667\n",
       "6  2019-08-07     A       644\n",
       "7  2019-08-08     A       610\n",
       "8  2019-08-09     A       617\n",
       "9  2019-08-10     A       406"
      ]
     },
     "metadata": {},
     "output_type": "display_data"
    },
    {
     "name": "stdout",
     "output_type": "stream",
     "text": [
      "<class 'pandas.core.frame.DataFrame'>\n",
      "RangeIndex: 62 entries, 0 to 61\n",
      "Data columns (total 3 columns):\n",
      " #   Column    Non-Null Count  Dtype \n",
      "---  ------    --------------  ----- \n",
      " 0   date      62 non-null     object\n",
      " 1   group     62 non-null     object\n",
      " 2   visitors  62 non-null     int64 \n",
      "dtypes: int64(1), object(2)\n",
      "memory usage: 1.6+ KB\n",
      "None\n",
      "Количество дубликатов: 0\n"
     ]
    }
   ],
   "source": [
    "data_exploration(visitors)"
   ]
  },
  {
   "cell_type": "markdown",
   "metadata": {},
   "source": [
    "Предобработка данных показала: дубликатов и пропусков нет, необходимо переименовать названия столбцов в `hypothesis` и в `orders` и преобразовать данные о времени, где это необходимо. Так же проверим категориальные данные. И проверим, есть ли в таблице orders пользователи, оказавшиеся одновременно в двух группах."
   ]
  },
  {
   "cell_type": "code",
   "execution_count": 6,
   "metadata": {},
   "outputs": [],
   "source": [
    "hypothesis.columns = hypothesis.columns.str.lower().str.replace(' ', '_')\n",
    "orders.columns = orders.columns.str.lower().str.replace(' ', '_')"
   ]
  },
  {
   "cell_type": "code",
   "execution_count": 7,
   "metadata": {},
   "outputs": [],
   "source": [
    "orders['date'] = pd.to_datetime(orders['date'])\n",
    "visitors['date'] = pd.to_datetime(visitors['date'])"
   ]
  },
  {
   "cell_type": "code",
   "execution_count": 8,
   "metadata": {},
   "outputs": [
    {
     "name": "stdout",
     "output_type": "stream",
     "text": [
      "Добавить два новых канала привлечения трафика, что позволит привлекать на 30% больше пользователей              1\n",
      "Запустить собственную службу доставки, что сократит срок доставки заказов                                       1\n",
      "Добавить блоки рекомендаций товаров на сайт интернет магазина, чтобы повысить конверсию и средний чек заказа    1\n",
      "Изменить структура категорий, что увеличит конверсию, т.к. пользователи быстрее найдут нужный товар             1\n",
      "Изменить цвет фона главной страницы, чтобы увеличить вовлеченность пользователей                                1\n",
      "Добавить страницу отзывов клиентов о магазине, что позволит увеличить количество заказов                        1\n",
      "Показать на главной странице баннеры с актуальными акциями и распродажами, чтобы увеличить конверсию            1\n",
      "Добавить форму подписки на все основные страницы, чтобы собрать базу клиентов для email-рассылок                1\n",
      "Запустить акцию, дающую скидку на товар в день рождения                                                         1\n",
      "Name: hypothesis, dtype: int64\n"
     ]
    }
   ],
   "source": [
    "print(hypothesis['hypothesis'].value_counts())"
   ]
  },
  {
   "cell_type": "code",
   "execution_count": 9,
   "metadata": {},
   "outputs": [
    {
     "name": "stdout",
     "output_type": "stream",
     "text": [
      "B    640\n",
      "A    557\n",
      "Name: group, dtype: int64\n"
     ]
    }
   ],
   "source": [
    "print(orders['group'].value_counts())"
   ]
  },
  {
   "cell_type": "code",
   "execution_count": 10,
   "metadata": {},
   "outputs": [
    {
     "name": "stdout",
     "output_type": "stream",
     "text": [
      "A    31\n",
      "B    31\n",
      "Name: group, dtype: int64\n"
     ]
    }
   ],
   "source": [
    "print(visitors['group'].value_counts())"
   ]
  },
  {
   "cell_type": "code",
   "execution_count": 11,
   "metadata": {},
   "outputs": [
    {
     "data": {
      "text/plain": [
       "58"
      ]
     },
     "execution_count": 11,
     "metadata": {},
     "output_type": "execute_result"
    }
   ],
   "source": [
    "len(np.intersect1d(orders.query('group == \"A\"')['visitorid'].unique(), orders.query('group == \"B\"')['visitorid'].unique()))"
   ]
  },
  {
   "cell_type": "markdown",
   "metadata": {},
   "source": [
    "В данных есть 58 значений, встречающихся в обеих группах. Это порядка 5% от общего количества. Удалим их, чтобы не было дополнительных искажений при проведении тестирования."
   ]
  },
  {
   "cell_type": "code",
   "execution_count": 12,
   "metadata": {},
   "outputs": [],
   "source": [
    "repeats = (np.intersect1d(orders.query('group == \"A\"')['visitorid'].unique(), \n",
    "                         orders.query('group == \"B\"')['visitorid'].unique())).tolist()\n",
    "\n",
    "orders = orders[~orders['visitorid'].isin(repeats)]"
   ]
  },
  {
   "cell_type": "code",
   "execution_count": 13,
   "metadata": {},
   "outputs": [
    {
     "data": {
      "text/plain": [
       "0"
      ]
     },
     "execution_count": 13,
     "metadata": {},
     "output_type": "execute_result"
    }
   ],
   "source": [
    "len(np.intersect1d(orders.query('group == \"A\"')['visitorid'].unique(), orders.query('group == \"B\"')['visitorid'].unique()))"
   ]
  },
  {
   "cell_type": "markdown",
   "metadata": {},
   "source": [
    "**Вывод:** Дубликатов и пропусков нет, переименовали названия столбцов и преобразовали данные о времени, где это было необходимо. Категориальные данные проверены, неявных дубликатов тоже нет. В данных есть 58 значений, встречающихся в обеих группах. Это порядка 5% от общего количества. Удалим их, чтобы не было дополнительных искажений при проведении тестирования."
   ]
  },
  {
   "cell_type": "markdown",
   "metadata": {},
   "source": [
    "### Приоритизация гипотез."
   ]
  },
  {
   "cell_type": "markdown",
   "metadata": {},
   "source": [
    "#### Применим фреймворк ICE для приоритизации гипотез. Отсортируем их по убыванию приоритета."
   ]
  },
  {
   "cell_type": "code",
   "execution_count": 14,
   "metadata": {},
   "outputs": [
    {
     "data": {
      "text/html": [
       "<div>\n",
       "<style scoped>\n",
       "    .dataframe tbody tr th:only-of-type {\n",
       "        vertical-align: middle;\n",
       "    }\n",
       "\n",
       "    .dataframe tbody tr th {\n",
       "        vertical-align: top;\n",
       "    }\n",
       "\n",
       "    .dataframe thead th {\n",
       "        text-align: right;\n",
       "    }\n",
       "</style>\n",
       "<table border=\"1\" class=\"dataframe\">\n",
       "  <thead>\n",
       "    <tr style=\"text-align: right;\">\n",
       "      <th></th>\n",
       "      <th>hypothesis</th>\n",
       "      <th>ice</th>\n",
       "    </tr>\n",
       "  </thead>\n",
       "  <tbody>\n",
       "    <tr>\n",
       "      <th>8</th>\n",
       "      <td>Запустить акцию, дающую скидку на товар в день рождения</td>\n",
       "      <td>16.200</td>\n",
       "    </tr>\n",
       "    <tr>\n",
       "      <th>0</th>\n",
       "      <td>Добавить два новых канала привлечения трафика, что позволит привлекать на 30% больше пользователей</td>\n",
       "      <td>13.333</td>\n",
       "    </tr>\n",
       "    <tr>\n",
       "      <th>7</th>\n",
       "      <td>Добавить форму подписки на все основные страницы, чтобы собрать базу клиентов для email-рассылок</td>\n",
       "      <td>11.200</td>\n",
       "    </tr>\n",
       "    <tr>\n",
       "      <th>6</th>\n",
       "      <td>Показать на главной странице баннеры с актуальными акциями и распродажами, чтобы увеличить конверсию</td>\n",
       "      <td>8.000</td>\n",
       "    </tr>\n",
       "    <tr>\n",
       "      <th>2</th>\n",
       "      <td>Добавить блоки рекомендаций товаров на сайт интернет магазина, чтобы повысить конверсию и средний чек заказа</td>\n",
       "      <td>7.000</td>\n",
       "    </tr>\n",
       "    <tr>\n",
       "      <th>1</th>\n",
       "      <td>Запустить собственную службу доставки, что сократит срок доставки заказов</td>\n",
       "      <td>2.000</td>\n",
       "    </tr>\n",
       "    <tr>\n",
       "      <th>5</th>\n",
       "      <td>Добавить страницу отзывов клиентов о магазине, что позволит увеличить количество заказов</td>\n",
       "      <td>1.333</td>\n",
       "    </tr>\n",
       "    <tr>\n",
       "      <th>3</th>\n",
       "      <td>Изменить структура категорий, что увеличит конверсию, т.к. пользователи быстрее найдут нужный товар</td>\n",
       "      <td>1.125</td>\n",
       "    </tr>\n",
       "    <tr>\n",
       "      <th>4</th>\n",
       "      <td>Изменить цвет фона главной страницы, чтобы увеличить вовлеченность пользователей</td>\n",
       "      <td>1.000</td>\n",
       "    </tr>\n",
       "  </tbody>\n",
       "</table>\n",
       "</div>"
      ],
      "text/plain": [
       "                                                                                                     hypothesis  \\\n",
       "8  Запустить акцию, дающую скидку на товар в день рождения                                                        \n",
       "0  Добавить два новых канала привлечения трафика, что позволит привлекать на 30% больше пользователей             \n",
       "7  Добавить форму подписки на все основные страницы, чтобы собрать базу клиентов для email-рассылок               \n",
       "6  Показать на главной странице баннеры с актуальными акциями и распродажами, чтобы увеличить конверсию           \n",
       "2  Добавить блоки рекомендаций товаров на сайт интернет магазина, чтобы повысить конверсию и средний чек заказа   \n",
       "1  Запустить собственную службу доставки, что сократит срок доставки заказов                                      \n",
       "5  Добавить страницу отзывов клиентов о магазине, что позволит увеличить количество заказов                       \n",
       "3  Изменить структура категорий, что увеличит конверсию, т.к. пользователи быстрее найдут нужный товар            \n",
       "4  Изменить цвет фона главной страницы, чтобы увеличить вовлеченность пользователей                               \n",
       "\n",
       "      ice  \n",
       "8  16.200  \n",
       "0  13.333  \n",
       "7  11.200  \n",
       "6  8.000   \n",
       "2  7.000   \n",
       "1  2.000   \n",
       "5  1.333   \n",
       "3  1.125   \n",
       "4  1.000   "
      ]
     },
     "metadata": {},
     "output_type": "display_data"
    }
   ],
   "source": [
    "pd.options.display.max_colwidth = 1\n",
    "hypothesis['ice'] = hypothesis['impact']*hypothesis['confidence']/hypothesis['efforts']\n",
    "display(hypothesis[['hypothesis','ice']].sort_values(by='ice',ascending=False).round(3))"
   ]
  },
  {
   "cell_type": "markdown",
   "metadata": {},
   "source": [
    "#### Применим фреймворк RICE для приоритизации гипотез. Отсортируем их по убыванию приоритета."
   ]
  },
  {
   "cell_type": "code",
   "execution_count": 15,
   "metadata": {},
   "outputs": [
    {
     "data": {
      "text/html": [
       "<div>\n",
       "<style scoped>\n",
       "    .dataframe tbody tr th:only-of-type {\n",
       "        vertical-align: middle;\n",
       "    }\n",
       "\n",
       "    .dataframe tbody tr th {\n",
       "        vertical-align: top;\n",
       "    }\n",
       "\n",
       "    .dataframe thead th {\n",
       "        text-align: right;\n",
       "    }\n",
       "</style>\n",
       "<table border=\"1\" class=\"dataframe\">\n",
       "  <thead>\n",
       "    <tr style=\"text-align: right;\">\n",
       "      <th></th>\n",
       "      <th>hypothesis</th>\n",
       "      <th>rice</th>\n",
       "    </tr>\n",
       "  </thead>\n",
       "  <tbody>\n",
       "    <tr>\n",
       "      <th>7</th>\n",
       "      <td>Добавить форму подписки на все основные страницы, чтобы собрать базу клиентов для email-рассылок</td>\n",
       "      <td>112.0</td>\n",
       "    </tr>\n",
       "    <tr>\n",
       "      <th>2</th>\n",
       "      <td>Добавить блоки рекомендаций товаров на сайт интернет магазина, чтобы повысить конверсию и средний чек заказа</td>\n",
       "      <td>56.0</td>\n",
       "    </tr>\n",
       "    <tr>\n",
       "      <th>0</th>\n",
       "      <td>Добавить два новых канала привлечения трафика, что позволит привлекать на 30% больше пользователей</td>\n",
       "      <td>40.0</td>\n",
       "    </tr>\n",
       "    <tr>\n",
       "      <th>6</th>\n",
       "      <td>Показать на главной странице баннеры с актуальными акциями и распродажами, чтобы увеличить конверсию</td>\n",
       "      <td>40.0</td>\n",
       "    </tr>\n",
       "    <tr>\n",
       "      <th>8</th>\n",
       "      <td>Запустить акцию, дающую скидку на товар в день рождения</td>\n",
       "      <td>16.2</td>\n",
       "    </tr>\n",
       "    <tr>\n",
       "      <th>3</th>\n",
       "      <td>Изменить структура категорий, что увеличит конверсию, т.к. пользователи быстрее найдут нужный товар</td>\n",
       "      <td>9.0</td>\n",
       "    </tr>\n",
       "    <tr>\n",
       "      <th>1</th>\n",
       "      <td>Запустить собственную службу доставки, что сократит срок доставки заказов</td>\n",
       "      <td>4.0</td>\n",
       "    </tr>\n",
       "    <tr>\n",
       "      <th>5</th>\n",
       "      <td>Добавить страницу отзывов клиентов о магазине, что позволит увеличить количество заказов</td>\n",
       "      <td>4.0</td>\n",
       "    </tr>\n",
       "    <tr>\n",
       "      <th>4</th>\n",
       "      <td>Изменить цвет фона главной страницы, чтобы увеличить вовлеченность пользователей</td>\n",
       "      <td>3.0</td>\n",
       "    </tr>\n",
       "  </tbody>\n",
       "</table>\n",
       "</div>"
      ],
      "text/plain": [
       "                                                                                                     hypothesis  \\\n",
       "7  Добавить форму подписки на все основные страницы, чтобы собрать базу клиентов для email-рассылок               \n",
       "2  Добавить блоки рекомендаций товаров на сайт интернет магазина, чтобы повысить конверсию и средний чек заказа   \n",
       "0  Добавить два новых канала привлечения трафика, что позволит привлекать на 30% больше пользователей             \n",
       "6  Показать на главной странице баннеры с актуальными акциями и распродажами, чтобы увеличить конверсию           \n",
       "8  Запустить акцию, дающую скидку на товар в день рождения                                                        \n",
       "3  Изменить структура категорий, что увеличит конверсию, т.к. пользователи быстрее найдут нужный товар            \n",
       "1  Запустить собственную службу доставки, что сократит срок доставки заказов                                      \n",
       "5  Добавить страницу отзывов клиентов о магазине, что позволит увеличить количество заказов                       \n",
       "4  Изменить цвет фона главной страницы, чтобы увеличить вовлеченность пользователей                               \n",
       "\n",
       "    rice  \n",
       "7  112.0  \n",
       "2  56.0   \n",
       "0  40.0   \n",
       "6  40.0   \n",
       "8  16.2   \n",
       "3  9.0    \n",
       "1  4.0    \n",
       "5  4.0    \n",
       "4  3.0    "
      ]
     },
     "metadata": {},
     "output_type": "display_data"
    }
   ],
   "source": [
    "hypothesis['rice'] = hypothesis['reach']* hypothesis['impact']*hypothesis['confidence']/hypothesis['efforts']\n",
    "display(hypothesis[['hypothesis','rice']].sort_values(by='rice',ascending=False))"
   ]
  },
  {
   "cell_type": "markdown",
   "metadata": {},
   "source": [
    "**Вывод:** приоритизация гипотез при применении RICE вместо ICE изменилась. На первое место вышла гипотеза с индексом 7(была на 3 месте), на второе место гипотеза 2 поднялась  с 5 места. А лидер в ICE гипотеза с индексом 8 опустилась на 5 место. Это связано с тем, что при применении  фреймворка RICE учитывается параметр Reach (охват пользователей). В гипотезе 7 он максимальный(10), а в уступившей лидерство гипотезе 8 параметр Reach минимальный(1). Это и повлияло на изменение приоритизации гипотез."
   ]
  },
  {
   "cell_type": "markdown",
   "metadata": {},
   "source": [
    "### Анализ A/B-теста."
   ]
  },
  {
   "cell_type": "markdown",
   "metadata": {},
   "source": [
    "#### Построим график кумулятивной выручки по группам."
   ]
  },
  {
   "cell_type": "code",
   "execution_count": 16,
   "metadata": {
    "scrolled": true
   },
   "outputs": [
    {
     "data": {
      "image/png": "[encoded data removed]",
      "text/plain": [
       "<Figure size 1500x500 with 1 Axes>"
      ]
     },
     "metadata": {},
     "output_type": "display_data"
    }
   ],
   "source": [
    "datesGroups = orders[['date', 'group']].drop_duplicates()\n",
    "\n",
    "ordersAggregated = datesGroups.apply(\n",
    "    lambda x: orders[\n",
    "        np.logical_and(\n",
    "            orders['date'] <= x['date'], orders['group'] == x['group']\n",
    "        )\n",
    "    ].agg(\n",
    "        {\n",
    "            'date': 'max',\n",
    "            'group': 'max',\n",
    "            'transactionid': 'nunique',\n",
    "            'visitorid': 'nunique',\n",
    "            'revenue': 'sum',\n",
    "        }\n",
    "    ),\n",
    "    axis=1,\n",
    ").sort_values(by=['date', 'group'])\n",
    "\n",
    "visitorsAggregated = datesGroups.apply(\n",
    "    lambda x: visitors[\n",
    "        np.logical_and(\n",
    "            visitors['date'] <= x['date'], visitors['group'] == x['group']\n",
    "        )\n",
    "    ].agg({'date': 'max', 'group': 'max', 'visitors': 'sum'}),\n",
    "    axis=1,\n",
    ").sort_values(by=['date', 'group'])\n",
    "\n",
    "cumulativeData = ordersAggregated.merge(\n",
    "    visitorsAggregated, left_on=['date', 'group'], right_on=['date', 'group']\n",
    ")\n",
    "cumulativeData.columns = [\n",
    "    'date',\n",
    "    'group',\n",
    "    'orders',\n",
    "    'buyers',\n",
    "    'revenue',\n",
    "    'visitors',\n",
    "]\n",
    "\n",
    "cumulativeRevenueA = cumulativeData[cumulativeData['group']=='A'][['date','revenue', 'orders','visitors']]\n",
    "cumulativeRevenueB = cumulativeData[cumulativeData['group']=='B'][['date','revenue', 'orders','visitors']]\n",
    "plt.figure(figsize=(15,5))\n",
    "plt.plot(cumulativeRevenueA['date'], cumulativeRevenueA['revenue'], label='A')\n",
    "plt.plot(cumulativeRevenueB['date'], cumulativeRevenueB['revenue'], label='B')\n",
    "plt.grid()\n",
    "plt.title('Кумулятивная выручка по группам')\n",
    "plt.xlabel('Дата')\n",
    "plt.ylabel('Выручка')\n",
    "plt.legend(); \n",
    "\n"
   ]
  },
  {
   "cell_type": "markdown",
   "metadata": {},
   "source": [
    "**Выводы и предположения:** Выручка почти равномерно увеличивается в течение всего теста. Группа B стабильно лучше группы A, и различие увеличивается со временем.\n",
    "График выручки группы B имеет резкий всплеск в районе 18-19 августа. Это может сигнализировать о всплесках числа заказов, либо о появлении очень дорогих заказов в выборке. При дальнейшем анализе это нужно учитывать."
   ]
  },
  {
   "cell_type": "markdown",
   "metadata": {},
   "source": [
    "#### Построим график кумулятивного среднего чека по группам.\n",
    "Для этого разделим кумулятивную выручку на кумулятивное число заказов."
   ]
  },
  {
   "cell_type": "code",
   "execution_count": 17,
   "metadata": {},
   "outputs": [
    {
     "data": {
      "image/png": "[encoded data removed]",
      "text/plain": [
       "<Figure size 1500x500 with 1 Axes>"
      ]
     },
     "metadata": {},
     "output_type": "display_data"
    }
   ],
   "source": [
    "plt.figure(figsize=(15,5))\n",
    "plt.plot(cumulativeRevenueA['date'], cumulativeRevenueA['revenue']/cumulativeRevenueA['orders'], label='A')\n",
    "plt.plot(cumulativeRevenueB['date'], cumulativeRevenueB['revenue']/cumulativeRevenueB['orders'], label='B')\n",
    "\n",
    "plt.grid()\n",
    "plt.title('Кумулятивный средний чека по группам')\n",
    "plt.xlabel('Дата')\n",
    "plt.ylabel('Средний чек')\n",
    "plt.legend(); "
   ]
  },
  {
   "cell_type": "markdown",
   "metadata": {},
   "source": [
    "**Выводы и предположения:** Средний чек в группе A стабильно больше, чем в группе B, почти всегда, кроме 13 августа. Скорее всего, в группе B была какая-то крупная покупка. Так же как в предыдущем графике, заметно резкое повышение в группе B в районе 18-19 августа. А после этого всплеска, в группе B средний чек постепенно падает, а вгруппе A, наоборот растет."
   ]
  },
  {
   "cell_type": "markdown",
   "metadata": {},
   "source": [
    "#### Построим график относительного изменения кумулятивного среднего чека группы B к группе A.\n",
    "Соберём данные в одном датафрейме,поcтроим отношение средних чеков,добавим ось X."
   ]
  },
  {
   "cell_type": "code",
   "execution_count": 18,
   "metadata": {},
   "outputs": [
    {
     "data": {
      "image/png": "[encoded data removed]",
      "text/plain": [
       "<Figure size 1500x500 with 1 Axes>"
      ]
     },
     "metadata": {},
     "output_type": "display_data"
    }
   ],
   "source": [
    "mergedCumulativeRevenue = cumulativeRevenueA.merge(cumulativeRevenueB, left_on='date', right_on='date', how='left', suffixes=['A', 'B'])\n",
    "plt.figure(figsize=(15,5))\n",
    "plt.plot(mergedCumulativeRevenue['date'], (mergedCumulativeRevenue['revenueB']/mergedCumulativeRevenue['ordersB'])/(mergedCumulativeRevenue['revenueA']/mergedCumulativeRevenue['ordersA'])-1)\n",
    "plt.axhline(y=0, color='black', linestyle='--') \n",
    "plt.grid()\n",
    "plt.title('Относительное изменение кумулятивного среднего чека группы B к группе A.')\n",
    "plt.xlabel('Дата')\n",
    "plt.ylabel('Изменение среднего чека группы B относительно группы A'); "
   ]
  },
  {
   "cell_type": "markdown",
   "metadata": {},
   "source": [
    "**Выводы и предположения:**  Средний чек группы B превышает средний чек группы A почти всё время, кроме 12-14 августа. Опять же здесь хорошо видно, что 19 августа был сильный всплеск (рост) за счет заказа с аномально большим объемом, а в последующие дни средний чек группы B также постепенно снижается."
   ]
  },
  {
   "cell_type": "markdown",
   "metadata": {},
   "source": [
    "#### Построим график кумулятивного среднего количества заказов по группам.\n",
    "Для этого разделим кумулятивное число заказов на кумулятивное количество посетителей."
   ]
  },
  {
   "cell_type": "code",
   "execution_count": 19,
   "metadata": {},
   "outputs": [
    {
     "data": {
      "image/png": "[encoded data removed]",
      "text/plain": [
       "<Figure size 1500x500 with 1 Axes>"
      ]
     },
     "metadata": {},
     "output_type": "display_data"
    }
   ],
   "source": [
    "\n",
    "plt.figure(figsize=(15,5))\n",
    "plt.plot(cumulativeRevenueA['date'],cumulativeRevenueA['orders']/cumulativeRevenueA['visitors'], label='A')\n",
    "plt.plot(cumulativeRevenueB['date'],cumulativeRevenueB['orders']/cumulativeRevenueB['visitors'], label='B')\n",
    "\n",
    "plt.grid()\n",
    "plt.title('Кумулятивное среднее количества заказов по группам')\n",
    "plt.xlabel('Дата')\n",
    "plt.ylabel('Среднее количество заказов')\n",
    "plt.legend(); "
   ]
  },
  {
   "cell_type": "markdown",
   "metadata": {},
   "source": [
    "**Выводы и предположения:** До 6-7 августа среднее количество заказов в группе А было больше, чем в группе В, но после 6-7 августа всё кардинально изменилось и группа В стала стабильно лучше группы A . Ранее замеченные всплески в группе A в районе 12-14 августа и в группе B в районе 19 августа здесь не наблюдаются. Скорее всего, эти всплески из-за единичных покупок на крупную сумму, а не из-за повышенного количества заказов."
   ]
  },
  {
   "cell_type": "markdown",
   "metadata": {},
   "source": [
    "#### Построим график относительного изменения кумулятивного среднего количества заказов группы B к группе A."
   ]
  },
  {
   "cell_type": "markdown",
   "metadata": {},
   "source": [
    "Соберём данные в одном датафрейме,поcтроим отношение среднего количества заказов,добавим ось X."
   ]
  },
  {
   "cell_type": "code",
   "execution_count": 20,
   "metadata": {},
   "outputs": [
    {
     "data": {
      "image/png": "[encoded data removed]",
      "text/plain": [
       "<Figure size 1500x500 with 1 Axes>"
      ]
     },
     "metadata": {},
     "output_type": "display_data"
    }
   ],
   "source": [
    "plt.figure(figsize=(15,5))\n",
    "plt.plot(mergedCumulativeRevenue['date'], (mergedCumulativeRevenue['ordersB']/mergedCumulativeRevenue['visitorsB'])/(mergedCumulativeRevenue['ordersA']/mergedCumulativeRevenue['visitorsA'])-1)\n",
    "plt.axhline(y=0, color='black', linestyle='--') \n",
    "plt.grid()\n",
    "plt.title('Относительное изменение кумулятивного среднего  количества заказов группы B к группе A.')\n",
    "plt.xlabel('Дата')\n",
    "plt.ylabel('Изменение среднего количества заказов группы B относительно группы A');  "
   ]
  },
  {
   "cell_type": "markdown",
   "metadata": {},
   "source": [
    "**Выводы и предположения:** Этот график полностью подтверждает предыдущий. До 6-7 августа среднее количество заказов в группе  А было больше, чем в группе В, но после 6-7 августа группа B стала значительно лучше группы A по среднему количеству заказов, различие стало уменьшается после 17 августа, но очень незначительно. А после 29 стало расти."
   ]
  },
  {
   "cell_type": "markdown",
   "metadata": {},
   "source": [
    "#### Построим точечный график количества заказов по пользователям."
   ]
  },
  {
   "cell_type": "code",
   "execution_count": 21,
   "metadata": {},
   "outputs": [
    {
     "data": {
      "image/png": "[encoded data removed]",
      "text/plain": [
       "<Figure size 1500x500 with 1 Axes>"
      ]
     },
     "metadata": {},
     "output_type": "display_data"
    }
   ],
   "source": [
    "ordersByUsers = (\n",
    "    orders.drop(['group', 'revenue', 'date'], axis=1)\n",
    "    .groupby('visitorid', as_index=False)\n",
    "    .agg({'transactionid': pd.Series.nunique})\n",
    ")\n",
    "\n",
    "ordersByUsers.columns = ['visitorid', 'orders']\n",
    "x_values = pd.Series(range(0,len(ordersByUsers)))\n",
    "\n",
    "plt.figure(figsize=(15,5))\n",
    "plt.grid()\n",
    "plt.title('Количество заказов по пользователям')\n",
    "plt.xlabel('Пользователи')\n",
    "plt.ylabel('Количество заказов')\n",
    "plt.scatter(x_values, ordersByUsers['orders'], alpha=0.5) ;"
   ]
  },
  {
   "cell_type": "markdown",
   "metadata": {},
   "source": [
    "**Выводы и предположения:** Больше всего пользователей, которые совершили 1 заказ. Чуть меньше, тех кто совершили 2 и 3 заказа.  Совсем мало - с 8 заказами и больше. Скорее всего это и является выбросами, но чтобы сказать точно, лучше посчитать 95-й и 99-й перцентили. "
   ]
  },
  {
   "cell_type": "markdown",
   "metadata": {},
   "source": [
    "#### Посчитаем 95-й и 99-й перцентили количества заказов на пользователя. Выберем границу для определения аномальных пользователей."
   ]
  },
  {
   "cell_type": "code",
   "execution_count": 22,
   "metadata": {},
   "outputs": [
    {
     "name": "stdout",
     "output_type": "stream",
     "text": [
      "[1. 2.]\n"
     ]
    }
   ],
   "source": [
    "print(np.percentile(ordersByUsers['orders'], [95, 99])) "
   ]
  },
  {
   "cell_type": "markdown",
   "metadata": {},
   "source": [
    "Не более 1% пользователей оформляли больше чем 2 заказа. Разумно выбрать 2 заказа на одного пользователя за нижнюю границу числа заказов, и отсеять аномальных пользователей по ней."
   ]
  },
  {
   "cell_type": "markdown",
   "metadata": {},
   "source": [
    "#### Построим точечный график стоимостей заказов."
   ]
  },
  {
   "cell_type": "code",
   "execution_count": 23,
   "metadata": {},
   "outputs": [
    {
     "data": {
      "image/png": "[encoded data removed]",
      "text/plain": [
       "<Figure size 1500x500 with 1 Axes>"
      ]
     },
     "metadata": {},
     "output_type": "display_data"
    }
   ],
   "source": [
    "x_values = pd.Series(range(0,len(orders['revenue'])))\n",
    "plt.figure(figsize=(15,5))\n",
    "plt.grid()\n",
    "plt.title('Стоимость заказов')\n",
    "plt.xlabel('Пользователи')\n",
    "plt.ylabel('Стоимость заказов')\n",
    "plt.scatter(x_values, orders['revenue'], alpha=0.5);"
   ]
  },
  {
   "cell_type": "markdown",
   "metadata": {},
   "source": [
    "Рассмотрим его поближе."
   ]
  },
  {
   "cell_type": "code",
   "execution_count": 24,
   "metadata": {},
   "outputs": [
    {
     "data": {
      "image/png": "[encoded data removed]",
      "text/plain": [
       "<Figure size 1500x500 with 1 Axes>"
      ]
     },
     "metadata": {},
     "output_type": "display_data"
    }
   ],
   "source": [
    "x_values = pd.Series(range(0,len(orders['revenue'])))\n",
    "plt.figure(figsize=(15,5))\n",
    "plt.grid()\n",
    "plt.title('Стоимость заказов')\n",
    "plt.xlabel('Пользователи')\n",
    "plt.ylabel('Стоимость заказов')\n",
    "plt.scatter(x_values, orders['revenue'], alpha=0.5)\n",
    "plt.axis([0, 1210, 0, 100000]);"
   ]
  },
  {
   "cell_type": "markdown",
   "metadata": {},
   "source": [
    "**Выводы и предположения:** Как показывает график, большинство заказов по стоимости не больше 100 тысяч. Чтобы найти более точную границу аномальных заказов рассчитаем 95-й и 99-й перцентили."
   ]
  },
  {
   "cell_type": "markdown",
   "metadata": {},
   "source": [
    "#### Посчитаем 95-й и 99-й перцентили стоимости заказов. Выберем границу для определения аномальных заказов."
   ]
  },
  {
   "cell_type": "code",
   "execution_count": 25,
   "metadata": {},
   "outputs": [
    {
     "name": "stdout",
     "output_type": "stream",
     "text": [
      "[26785. 53904.]\n"
     ]
    }
   ],
   "source": [
    "print(np.percentile(orders['revenue'], [95, 99])) "
   ]
  },
  {
   "cell_type": "markdown",
   "metadata": {},
   "source": [
    "99% заказов меньше суммы 53904 , установим её в качестве границы для аномалий."
   ]
  },
  {
   "cell_type": "markdown",
   "metadata": {},
   "source": [
    "#### Посчитаем статистическую значимость различий в среднем количестве заказов между группами по «сырым» данным."
   ]
  },
  {
   "cell_type": "markdown",
   "metadata": {},
   "source": [
    "Сформулируем гипотезы.\n",
    "\n",
    "Нулевая: различий в среднем количестве заказов между группами нет. Альтернативная: различия в среднем между группами есть.\n",
    "\n",
    "Для начала подготовим данные.Создадим переменные ordersByUsersA и ordersByUsersB со столбцами ['userId', 'orders']. В них для пользователей, которые заказывали хотя бы 1 раз, укажем число совершённых заказов. Объявим переменные sampleA и sampleB, в которых пользователям из разных групп будет соответствовать количество заказов. Тем, кто ничего не заказал, будут соответствовать нули. Это нужно, чтобы подготовить выборки к проверке критерием. Применим критерий Манна-Уитни."
   ]
  },
  {
   "cell_type": "code",
   "execution_count": 26,
   "metadata": {},
   "outputs": [
    {
     "name": "stdout",
     "output_type": "stream",
     "text": [
      "alpha = 0.05\n",
      "p-value = 0.01102\n",
      "Относительный прирост среднего числа заказов группы B 0.160\n"
     ]
    }
   ],
   "source": [
    "visitorsADaily = visitors[visitors['group'] == 'A'][['date', 'visitors']]\n",
    "visitorsADaily.columns = ['date', 'visitorsPerDateA']\n",
    "\n",
    "visitorsACummulative = visitorsADaily.apply(\n",
    "    lambda x: visitorsADaily[visitorsADaily['date'] <= x['date']].agg(\n",
    "        {'date': 'max', 'visitorsPerDateA': 'sum'}\n",
    "    ),\n",
    "    axis=1,\n",
    ")\n",
    "visitorsACummulative.columns = ['date', 'visitorsCummulativeA']\n",
    "\n",
    "visitorsBDaily = visitors[visitors['group'] == 'B'][['date', 'visitors']]\n",
    "visitorsBDaily.columns = ['date', 'visitorsPerDateB']\n",
    "\n",
    "visitorsBCummulative = visitorsBDaily.apply(\n",
    "    lambda x: visitorsBDaily[visitorsBDaily['date'] <= x['date']].agg(\n",
    "        {'date': 'max', 'visitorsPerDateB': 'sum'}\n",
    "    ),\n",
    "    axis=1,\n",
    ")\n",
    "visitorsBCummulative.columns = ['date', 'visitorsCummulativeB']\n",
    "\n",
    "ordersADaily = (\n",
    "    orders[orders['group'] == 'A'][['date', 'transactionid', 'visitorid', 'revenue']]\n",
    "    .groupby('date', as_index=False)\n",
    "    .agg({'visitorid': pd.Series.nunique, 'revenue': 'sum'})\n",
    ")\n",
    "ordersADaily.columns = ['date', 'ordersPerDateA', 'revenuePerDateA']\n",
    "\n",
    "ordersACummulative = ordersADaily.apply(\n",
    "    lambda x: ordersADaily[ordersADaily['date'] <= x['date']].agg(\n",
    "        {'date': 'max', 'ordersPerDateA': 'sum', 'revenuePerDateA': 'sum'}\n",
    "    ),\n",
    "    axis=1,\n",
    ").sort_values(by=['date'])\n",
    "ordersACummulative.columns = [\n",
    "    'date',\n",
    "    'ordersCummulativeA',\n",
    "    'revenueCummulativeA',\n",
    "]\n",
    "\n",
    "ordersBDaily = (\n",
    "    orders[orders['group'] == 'B'][['date', 'transactionid', 'visitorid', 'revenue']]\n",
    "    .groupby('date', as_index=False)\n",
    "    .agg({'transactionid': pd.Series.nunique, 'revenue': 'sum'})\n",
    ")\n",
    "ordersBDaily.columns = ['date', 'ordersPerDateB', 'revenuePerDateB']\n",
    "\n",
    "ordersBCummulative = ordersBDaily.apply(\n",
    "    lambda x: ordersBDaily[ordersBDaily['date'] <= x['date']].agg(\n",
    "        {'date': 'max', 'ordersPerDateB': 'sum', 'revenuePerDateB': 'sum'}\n",
    "    ),\n",
    "    axis=1,\n",
    ").sort_values(by=['date'])\n",
    "ordersBCummulative.columns = [\n",
    "    'date',\n",
    "    'ordersCummulativeB',\n",
    "    'revenueCummulativeB',\n",
    "]\n",
    "\n",
    "data = (\n",
    "    ordersADaily.merge(\n",
    "        ordersBDaily, left_on='date', right_on='date', how='left'\n",
    "    )\n",
    "    .merge(ordersACummulative, left_on='date', right_on='date', how='left')\n",
    "    .merge(ordersBCummulative, left_on='date', right_on='date', how='left')\n",
    "    .merge(visitorsADaily, left_on='date', right_on='date', how='left')\n",
    "    .merge(visitorsBDaily, left_on='date', right_on='date', how='left')\n",
    "    .merge(visitorsACummulative, left_on='date', right_on='date', how='left')\n",
    "    .merge(visitorsBCummulative, left_on='date', right_on='date', how='left')\n",
    ")\n",
    "\n",
    "ordersByUsersA = (\n",
    "    orders[orders['group'] == 'A']\n",
    "    .groupby('visitorid', as_index=False)\n",
    "    .agg({'transactionid': pd.Series.nunique})\n",
    ")\n",
    "ordersByUsersA.columns = ['userId', 'orders']\n",
    "\n",
    "ordersByUsersB = (\n",
    "    orders[orders['group'] == 'B']\n",
    "    .groupby('visitorid', as_index=False)\n",
    "    .agg({'transactionid': pd.Series.nunique})\n",
    ")\n",
    "ordersByUsersB.columns = ['userId', 'orders']\n",
    "\n",
    "sampleA = pd.concat(\n",
    "    [\n",
    "        ordersByUsersA['orders'],\n",
    "        pd.Series(\n",
    "            0,\n",
    "            index=np.arange(\n",
    "                data['visitorsPerDateA'].sum() - len(ordersByUsersA['orders'])\n",
    "            ),\n",
    "            name='orders',\n",
    "        ),\n",
    "    ],\n",
    "    axis=0,\n",
    ")\n",
    "\n",
    "sampleB = pd.concat(\n",
    "    [\n",
    "        ordersByUsersB['orders'],\n",
    "        pd.Series(\n",
    "            0,\n",
    "            index=np.arange(\n",
    "                data['visitorsPerDateB'].sum() - len(ordersByUsersB['orders'])\n",
    "            ),\n",
    "            name='orders',\n",
    "        ),\n",
    "    ],\n",
    "    axis=0,\n",
    ")\n",
    "print(\"alpha =\",0.05)\n",
    "print(\"p-value = {0:.5f}\".format(stats.mannwhitneyu(sampleA, sampleB)[1]))\n",
    "print(\"Относительный прирост среднего числа заказов группы B {0:.3f}\".format(sampleB.mean() / sampleA.mean() - 1))\n"
   ]
  },
  {
   "cell_type": "markdown",
   "metadata": {},
   "source": [
    "**Выводы и предположения:** p-value = 0.011 меньше 0.05. На основе имеющихся данных на уровне значимости 5% есть основания отвергнуть нулевую гипотезу о том, что статистически значимых различий в среднем количестве заказов между группами по «сырым» данным нет в пользу альтернативной. С большой вероятностью среднее количество заказов между группами по «сырым» данным разные.\n",
    "А относительный прирост группы B равен 16%."
   ]
  },
  {
   "cell_type": "markdown",
   "metadata": {},
   "source": [
    "#### Посчитаем статистическую значимость различий в среднем чеке заказа между группами по «сырым» данным."
   ]
  },
  {
   "cell_type": "markdown",
   "metadata": {},
   "source": [
    "Нулевая гипотеза: различий в среднем чеке между группами нет.\n",
    "\n",
    "Альтернативная гипотеза: различия в среднем чеке между группами есть."
   ]
  },
  {
   "cell_type": "code",
   "execution_count": 27,
   "metadata": {},
   "outputs": [
    {
     "name": "stdout",
     "output_type": "stream",
     "text": [
      "alpha = 0.05\n",
      "p-value = 0.829\n",
      "Относительные различия в среднем чеке между группами B и A = 0.287\n"
     ]
    }
   ],
   "source": [
    "print(\"alpha =\",0.05)\n",
    "print(\"p-value = {0:.3f}\".format(stats.mannwhitneyu(orders[orders['group']=='A']['revenue'],\n",
    "                                                    orders[orders['group']=='B']['revenue'], alternative = 'two-sided')[1]))\n",
    "print(\"Относительные различия в среднем чеке между группами B и A = {0:.3f}\".format(orders[orders['group']=='B']['revenue'].mean()/\n",
    "                                                            orders[orders['group']=='A']['revenue'].mean()-1)) \n"
   ]
  },
  {
   "cell_type": "markdown",
   "metadata": {},
   "source": [
    "**Выводы и предположения:** P-value значительно больше 0.05. Значит,оснований отвергнуть нулевую гипотезу в пользу альтернативной и считать, что в среднем чеке есть различия,нет. Хотя средний чек группы B значительно выше среднего чека группы A."
   ]
  },
  {
   "cell_type": "markdown",
   "metadata": {},
   "source": [
    "#### Посчитаем статистическую значимость различий в среднем количестве заказов между группами по «очищенным» данным."
   ]
  },
  {
   "cell_type": "markdown",
   "metadata": {},
   "source": [
    "Ранее мы приняли за аномальных пользователей тех, кто совершил 3 и больше заказов или совершил заказ дороже 53904 рублей. Сделаем срезы пользователей с числом заказов больше 2 — usersWithManyOrders и пользователей, совершивших заказы дороже 53904 — usersWithExpensiveOrders. Объединим их в таблице abnormalUsers. Узнаем, сколько всего аномальных пользователей методом shape()."
   ]
  },
  {
   "cell_type": "code",
   "execution_count": 28,
   "metadata": {},
   "outputs": [
    {
     "name": "stdout",
     "output_type": "stream",
     "text": [
      "1099    148427295\n",
      "33      249864742\n",
      "58      611059232\n",
      "949     887908475\n",
      "744     888512513\n",
      "dtype: int64\n",
      "16\n"
     ]
    }
   ],
   "source": [
    "usersWithManyOrders = pd.concat(\n",
    "    [\n",
    "        ordersByUsersA[ordersByUsersA['orders'] > 2]['userId'],\n",
    "        ordersByUsersB[ordersByUsersB['orders'] > 2]['userId'],\n",
    "    ],\n",
    "    axis=0,\n",
    ")\n",
    "usersWithExpensiveOrders = orders[orders['revenue'] > 53904]['visitorid']\n",
    "abnormalUsers = (\n",
    "    pd.concat([usersWithManyOrders, usersWithExpensiveOrders], axis=0)\n",
    "    .drop_duplicates()\n",
    "    .sort_values()\n",
    ")\n",
    "print(abnormalUsers.head(5))\n",
    "print(abnormalUsers.shape[0]) \n"
   ]
  },
  {
   "cell_type": "markdown",
   "metadata": {},
   "source": [
    "Всего аномальных пользователей 16.\n",
    "Узнаем, как их действия повлияли на результаты теста. Посчитаем статистическую значимость различий в среднем количестве заказов между группами теста по очищенным данным. Сначала подготовим выборки количества заказов по пользователям по группам теста. Применим статистический критерий Манна-Уитни к полученным выборкам:"
   ]
  },
  {
   "cell_type": "code",
   "execution_count": 29,
   "metadata": {},
   "outputs": [
    {
     "name": "stdout",
     "output_type": "stream",
     "text": [
      "alpha = 0.05\n",
      "p-value = 0.007\n",
      "Относительный прирост среднего числа заказов группы B 0.189\n"
     ]
    }
   ],
   "source": [
    "sampleAFiltered = pd.concat(\n",
    "    [\n",
    "        ordersByUsersA[\n",
    "            np.logical_not(ordersByUsersA['userId'].isin(abnormalUsers))\n",
    "        ]['orders'],\n",
    "        pd.Series(\n",
    "            0,\n",
    "            index=np.arange(\n",
    "                data['visitorsPerDateA'].sum() - len(ordersByUsersA['orders'])\n",
    "            ),\n",
    "            name='orders',\n",
    "        ),\n",
    "    ],\n",
    "    axis=0,\n",
    ")\n",
    "\n",
    "sampleBFiltered = pd.concat(\n",
    "    [\n",
    "        ordersByUsersB[\n",
    "            np.logical_not(ordersByUsersB['userId'].isin(abnormalUsers))\n",
    "        ]['orders'],\n",
    "        pd.Series(\n",
    "            0,\n",
    "            index=np.arange(\n",
    "                data['visitorsPerDateB'].sum() - len(ordersByUsersB['orders'])\n",
    "            ),\n",
    "            name='orders',\n",
    "        ),\n",
    "    ],\n",
    "    axis=0,\n",
    ")\n",
    "print(\"alpha =\",0.05)\n",
    "print('p-value = {0:.3f}'.format(stats.mannwhitneyu(sampleAFiltered, sampleBFiltered)[1]))\n",
    "print('Относительный прирост среднего числа заказов группы B {0:.3f}'.format(sampleBFiltered.mean()/sampleAFiltered.mean()-1)) "
   ]
  },
  {
   "cell_type": "markdown",
   "metadata": {},
   "source": [
    "**Выводы и предположения:** Результаты по среднему количеству заказов практически не изменились. p-value = 0.007 значительно меньше 0.05. На основе имеющихся данных на уровне значимости 5% есть основания отвергнуть нулевую гипотезу о том, что статистически значимых различий в среднем количестве заказов между группами нет в пользу альтернативной. С большой вероятностью среднее количество заказов между группами по «очищенным» данным разные. Относительный прирост среднего числа заказов группы B равен почти 19%."
   ]
  },
  {
   "cell_type": "markdown",
   "metadata": {},
   "source": [
    "#### Посчитаем статистическую значимость различий в среднем чеке заказа между группами по «очищенным» данным."
   ]
  },
  {
   "cell_type": "code",
   "execution_count": 30,
   "metadata": {},
   "outputs": [
    {
     "name": "stdout",
     "output_type": "stream",
     "text": [
      "alpha = 0.05\n",
      "p-value = 0.788\n",
      "Относительные различия в среднем чеке между группами B и A = -0.032\n"
     ]
    }
   ],
   "source": [
    "print(\"alpha =\",0.05)\n",
    "print(\"p-value = {0:.3f}\".format(stats.mannwhitneyu(\n",
    "    orders[np.logical_and(\n",
    "        orders['group']=='A',\n",
    "        np.logical_not(orders['visitorid'].isin(abnormalUsers)))]['revenue'],\n",
    "    orders[np.logical_and(\n",
    "        orders['group']=='B',\n",
    "        np.logical_not(orders['visitorid'].isin(abnormalUsers)))]['revenue'], alternative = 'two-sided')[1]))\n",
    "\n",
    "print(\"Относительные различия в среднем чеке между группами B и A = {0:.3f}\".format(\n",
    "    orders[np.logical_and(orders['group']=='B',np.logical_not(orders['visitorid'].isin(abnormalUsers)))]['revenue'].mean()/\n",
    "    orders[np.logical_and(\n",
    "        orders['group']=='A',\n",
    "        np.logical_not(orders['visitorid'].isin(abnormalUsers)))]['revenue'].mean() - 1)) "
   ]
  },
  {
   "cell_type": "markdown",
   "metadata": {},
   "source": [
    "**Выводы и предположения:** P-value уменьшился,но очень незначительно, а вот разница между сегментами сократилась с почти 29% до практически 0%.\n",
    "Хотя общие выводы по результатам теста не изменились. Оснований отвергать нулевую гипотезу в пользу альтернативной и считать, что в среднем чеке есть различия, по прежнему нет. И то, что различия в среднем чеке между группами B и A по «очищенным» данным практически = 0, это подтверждают."
   ]
  },
  {
   "cell_type": "markdown",
   "metadata": {},
   "source": [
    "### Выводы:"
   ]
  },
  {
   "cell_type": "markdown",
   "metadata": {},
   "source": [
    "Приоритизация гипотез при применении RICE вместо ICE изменилась. На первое место вышла гипотеза с индексом 7(была на 3 месте), на второе место гипотеза 2 поднялась с 5 места. А лидер в ICE гипотеза с индексом 8 опустилась на 5 место. Это связано с тем, что при применении фреймворка RICE учитывается параметр Reach (охват пользователей). В гипотезе 7 он максимальный(10), а в уступившей лидерство гипотезе 8 параметр Reach минимальный(1). Это и повлияло на изменение приоритизации гипотез.\n",
    "\n",
    "По результатам теста принимаем решение: Остановить тест, зафиксировать победу группы B.\n",
    "\n",
    "Имеющиеся факты:\n",
    "\n",
    "Есть статистически значимые различия по среднему количеству заказов между группами и по «сырым», и по данным после фильтрации аномалий;\n",
    "\n",
    "Относительный прирост среднего числа заказов группы B по «сырым» данным равен 16%, а по по «очищенным» данным 18.9%;\n",
    "\n",
    "Несмотря на то, что нет статистически значимого различия по среднему чеку между группами ни по «сырым», ни по данным после фильтрации аномалий, средний чек группы B оказался незначительно (на 3%) ниже среднего чека группы A по \"очищенным\" данным, в то время как по \"сырым\" данным, он был больше на 28.7%. Всё логично, аномальные заказы убрали и чеки сравнялись.\n",
    "\n",
    "Графики, показывающие изменение кумулятивного средний чека по группам и изменение кумулятивного среднего количества заказов говорит о том, что результаты группы B значительно лучше (эффективнее) результатов группы A.\n"
   ]
  },
  {
   "cell_type": "code",
   "execution_count": null,
   "metadata": {},
   "outputs": [],
   "source": []
  }
 ],
 "metadata": {
  "ExecuteTimeLog": [
   {
    "duration": 237,
    "start_time": "2022-10-18T14:51:02.738Z"
   },
   {
    "duration": 817,
    "start_time": "2022-10-18T15:30:56.514Z"
   },
   {
    "duration": 132,
    "start_time": "2022-10-18T15:33:39.684Z"
   },
   {
    "duration": 71,
    "start_time": "2022-10-18T15:35:34.441Z"
   },
   {
    "duration": 77,
    "start_time": "2022-10-18T15:35:54.330Z"
   },
   {
    "duration": 23,
    "start_time": "2022-10-18T15:35:55.262Z"
   },
   {
    "duration": 11,
    "start_time": "2022-10-18T15:43:35.580Z"
   },
   {
    "duration": 10,
    "start_time": "2022-10-18T15:45:25.420Z"
   },
   {
    "duration": 105,
    "start_time": "2022-10-18T15:45:42.350Z"
   },
   {
    "duration": 78,
    "start_time": "2022-10-18T15:46:23.581Z"
   },
   {
    "duration": 15,
    "start_time": "2022-10-18T15:46:40.652Z"
   },
   {
    "duration": 11,
    "start_time": "2022-10-18T15:47:01.019Z"
   },
   {
    "duration": 20,
    "start_time": "2022-10-18T15:48:46.329Z"
   },
   {
    "duration": 16,
    "start_time": "2022-10-18T15:50:32.230Z"
   },
   {
    "duration": 17,
    "start_time": "2022-10-18T15:51:01.620Z"
   },
   {
    "duration": 16,
    "start_time": "2022-10-18T15:52:13.766Z"
   },
   {
    "duration": 21,
    "start_time": "2022-10-18T15:56:47.452Z"
   },
   {
    "duration": 16,
    "start_time": "2022-10-18T15:57:11.328Z"
   },
   {
    "duration": 16,
    "start_time": "2022-10-18T15:57:49.528Z"
   },
   {
    "duration": 15,
    "start_time": "2022-10-18T15:58:22.325Z"
   },
   {
    "duration": 4,
    "start_time": "2022-10-18T16:02:38.800Z"
   },
   {
    "duration": 6,
    "start_time": "2022-10-18T16:04:43.999Z"
   },
   {
    "duration": 42,
    "start_time": "2022-10-18T16:06:55.778Z"
   },
   {
    "duration": 6,
    "start_time": "2022-10-18T16:08:48.938Z"
   },
   {
    "duration": 5,
    "start_time": "2022-10-18T16:10:19.439Z"
   },
   {
    "duration": 4,
    "start_time": "2022-10-18T16:10:21.730Z"
   },
   {
    "duration": 2,
    "start_time": "2022-10-18T16:12:45.235Z"
   },
   {
    "duration": 9,
    "start_time": "2022-10-18T16:19:22.500Z"
   },
   {
    "duration": 11,
    "start_time": "2022-10-18T16:19:37.733Z"
   },
   {
    "duration": 12,
    "start_time": "2022-10-18T16:20:00.717Z"
   },
   {
    "duration": 11,
    "start_time": "2022-10-18T16:20:09.678Z"
   },
   {
    "duration": 3,
    "start_time": "2022-10-18T16:20:21.763Z"
   },
   {
    "duration": 94,
    "start_time": "2022-10-18T16:20:21.768Z"
   },
   {
    "duration": 18,
    "start_time": "2022-10-18T16:20:21.865Z"
   },
   {
    "duration": 17,
    "start_time": "2022-10-18T16:20:21.885Z"
   },
   {
    "duration": 15,
    "start_time": "2022-10-18T16:20:21.904Z"
   },
   {
    "duration": 4,
    "start_time": "2022-10-18T16:20:21.921Z"
   },
   {
    "duration": 9,
    "start_time": "2022-10-18T16:20:21.926Z"
   },
   {
    "duration": 7,
    "start_time": "2022-10-18T16:20:21.937Z"
   },
   {
    "duration": 10,
    "start_time": "2022-10-18T16:20:21.946Z"
   },
   {
    "duration": 10,
    "start_time": "2022-10-18T16:20:21.957Z"
   },
   {
    "duration": 18,
    "start_time": "2022-10-18T16:20:21.969Z"
   },
   {
    "duration": 9,
    "start_time": "2022-10-18T16:24:41.443Z"
   },
   {
    "duration": 12,
    "start_time": "2022-10-18T16:25:00.262Z"
   },
   {
    "duration": 13,
    "start_time": "2022-10-18T16:28:03.200Z"
   },
   {
    "duration": 11,
    "start_time": "2022-10-18T16:28:18.663Z"
   },
   {
    "duration": 20,
    "start_time": "2022-10-18T16:43:27.191Z"
   },
   {
    "duration": 51,
    "start_time": "2022-10-18T16:57:48.391Z"
   },
   {
    "duration": 57,
    "start_time": "2022-10-18T17:03:59.632Z"
   },
   {
    "duration": 3,
    "start_time": "2022-10-18T17:06:58.955Z"
   },
   {
    "duration": 87,
    "start_time": "2022-10-18T17:06:58.960Z"
   },
   {
    "duration": 21,
    "start_time": "2022-10-18T17:06:59.050Z"
   },
   {
    "duration": 32,
    "start_time": "2022-10-18T17:06:59.073Z"
   },
   {
    "duration": 33,
    "start_time": "2022-10-18T17:06:59.108Z"
   },
   {
    "duration": 11,
    "start_time": "2022-10-18T17:06:59.143Z"
   },
   {
    "duration": 20,
    "start_time": "2022-10-18T17:06:59.155Z"
   },
   {
    "duration": 11,
    "start_time": "2022-10-18T17:06:59.176Z"
   },
   {
    "duration": 7,
    "start_time": "2022-10-18T17:06:59.188Z"
   },
   {
    "duration": 9,
    "start_time": "2022-10-18T17:06:59.197Z"
   },
   {
    "duration": 21,
    "start_time": "2022-10-18T17:06:59.208Z"
   },
   {
    "duration": 17,
    "start_time": "2022-10-18T17:06:59.230Z"
   },
   {
    "duration": 31,
    "start_time": "2022-10-18T17:21:49.705Z"
   },
   {
    "duration": 4,
    "start_time": "2022-10-18T17:24:00.911Z"
   },
   {
    "duration": 14,
    "start_time": "2022-10-18T17:24:30.136Z"
   },
   {
    "duration": 575,
    "start_time": "2022-10-18T17:25:42.622Z"
   },
   {
    "duration": 480,
    "start_time": "2022-10-18T17:30:41.621Z"
   },
   {
    "duration": 775,
    "start_time": "2022-10-19T07:58:47.459Z"
   },
   {
    "duration": 257,
    "start_time": "2022-10-19T07:58:48.236Z"
   },
   {
    "duration": 20,
    "start_time": "2022-10-19T07:58:48.495Z"
   },
   {
    "duration": 16,
    "start_time": "2022-10-19T07:58:48.517Z"
   },
   {
    "duration": 14,
    "start_time": "2022-10-19T07:58:48.535Z"
   },
   {
    "duration": 3,
    "start_time": "2022-10-19T07:58:48.551Z"
   },
   {
    "duration": 33,
    "start_time": "2022-10-19T07:58:48.556Z"
   },
   {
    "duration": 6,
    "start_time": "2022-10-19T07:58:48.591Z"
   },
   {
    "duration": 5,
    "start_time": "2022-10-19T07:58:48.599Z"
   },
   {
    "duration": 6,
    "start_time": "2022-10-19T07:58:48.606Z"
   },
   {
    "duration": 13,
    "start_time": "2022-10-19T07:58:48.613Z"
   },
   {
    "duration": 9,
    "start_time": "2022-10-19T07:58:48.628Z"
   },
   {
    "duration": 537,
    "start_time": "2022-10-19T07:58:48.639Z"
   },
   {
    "duration": 166,
    "start_time": "2022-10-19T08:01:04.458Z"
   },
   {
    "duration": 273,
    "start_time": "2022-10-19T08:03:51.907Z"
   },
   {
    "duration": 264,
    "start_time": "2022-10-19T08:04:10.471Z"
   },
   {
    "duration": 336,
    "start_time": "2022-10-19T08:17:14.358Z"
   },
   {
    "duration": 295,
    "start_time": "2022-10-19T08:18:24.505Z"
   },
   {
    "duration": 316,
    "start_time": "2022-10-19T08:18:40.277Z"
   },
   {
    "duration": 220,
    "start_time": "2022-10-19T08:44:10.280Z"
   },
   {
    "duration": 179,
    "start_time": "2022-10-19T08:44:46.154Z"
   },
   {
    "duration": 4,
    "start_time": "2022-10-19T08:54:03.767Z"
   },
   {
    "duration": 247,
    "start_time": "2022-10-19T08:54:12.432Z"
   },
   {
    "duration": 284,
    "start_time": "2022-10-19T08:55:09.631Z"
   },
   {
    "duration": 293,
    "start_time": "2022-10-19T08:58:06.503Z"
   },
   {
    "duration": 274,
    "start_time": "2022-10-19T09:07:37.604Z"
   },
   {
    "duration": 15,
    "start_time": "2022-10-19T09:17:15.181Z"
   },
   {
    "duration": 277,
    "start_time": "2022-10-19T09:17:31.399Z"
   },
   {
    "duration": 315,
    "start_time": "2022-10-19T09:19:54.880Z"
   },
   {
    "duration": 265,
    "start_time": "2022-10-19T09:20:30.509Z"
   },
   {
    "duration": 256,
    "start_time": "2022-10-19T09:22:02.055Z"
   },
   {
    "duration": 4,
    "start_time": "2022-10-19T09:35:44.251Z"
   },
   {
    "duration": 169,
    "start_time": "2022-10-19T09:47:10.961Z"
   },
   {
    "duration": 157,
    "start_time": "2022-10-19T09:47:31.708Z"
   },
   {
    "duration": 165,
    "start_time": "2022-10-19T09:48:24.885Z"
   },
   {
    "duration": 194,
    "start_time": "2022-10-19T09:50:21.759Z"
   },
   {
    "duration": 164,
    "start_time": "2022-10-19T09:50:35.446Z"
   },
   {
    "duration": 174,
    "start_time": "2022-10-19T09:52:18.359Z"
   },
   {
    "duration": 194,
    "start_time": "2022-10-19T09:52:38.042Z"
   },
   {
    "duration": 177,
    "start_time": "2022-10-19T09:54:10.860Z"
   },
   {
    "duration": 243,
    "start_time": "2022-10-19T09:54:32.671Z"
   },
   {
    "duration": 230,
    "start_time": "2022-10-19T09:54:46.805Z"
   },
   {
    "duration": 166,
    "start_time": "2022-10-19T09:54:59.407Z"
   },
   {
    "duration": 167,
    "start_time": "2022-10-19T09:55:07.747Z"
   },
   {
    "duration": 166,
    "start_time": "2022-10-19T09:55:15.465Z"
   },
   {
    "duration": 175,
    "start_time": "2022-10-19T09:55:20.868Z"
   },
   {
    "duration": 192,
    "start_time": "2022-10-19T09:55:39.805Z"
   },
   {
    "duration": 166,
    "start_time": "2022-10-19T09:55:47.746Z"
   },
   {
    "duration": 172,
    "start_time": "2022-10-19T09:55:54.648Z"
   },
   {
    "duration": 4,
    "start_time": "2022-10-19T10:00:23.858Z"
   },
   {
    "duration": 4,
    "start_time": "2022-10-19T10:00:34.152Z"
   },
   {
    "duration": 12,
    "start_time": "2022-10-19T10:05:07.100Z"
   },
   {
    "duration": 482,
    "start_time": "2022-10-19T10:10:50.968Z"
   },
   {
    "duration": 92,
    "start_time": "2022-10-19T10:11:09.158Z"
   },
   {
    "duration": 11,
    "start_time": "2022-10-19T10:13:40.061Z"
   },
   {
    "duration": 22,
    "start_time": "2022-10-19T10:14:04.801Z"
   },
   {
    "duration": 41,
    "start_time": "2022-10-19T10:24:57.202Z"
   },
   {
    "duration": 14,
    "start_time": "2022-10-19T10:26:04.137Z"
   },
   {
    "duration": 15,
    "start_time": "2022-10-19T10:27:24.123Z"
   },
   {
    "duration": 14,
    "start_time": "2022-10-19T10:29:25.499Z"
   },
   {
    "duration": 143,
    "start_time": "2022-10-19T10:29:57.433Z"
   },
   {
    "duration": 3,
    "start_time": "2022-10-19T10:31:36.365Z"
   },
   {
    "duration": 129,
    "start_time": "2022-10-19T10:31:36.370Z"
   },
   {
    "duration": 17,
    "start_time": "2022-10-19T10:31:36.502Z"
   },
   {
    "duration": 18,
    "start_time": "2022-10-19T10:31:36.520Z"
   },
   {
    "duration": 14,
    "start_time": "2022-10-19T10:31:36.540Z"
   },
   {
    "duration": 11,
    "start_time": "2022-10-19T10:31:36.555Z"
   },
   {
    "duration": 14,
    "start_time": "2022-10-19T10:31:36.586Z"
   },
   {
    "duration": 21,
    "start_time": "2022-10-19T10:31:36.601Z"
   },
   {
    "duration": 7,
    "start_time": "2022-10-19T10:31:36.624Z"
   },
   {
    "duration": 7,
    "start_time": "2022-10-19T10:31:36.632Z"
   },
   {
    "duration": 14,
    "start_time": "2022-10-19T10:31:36.642Z"
   },
   {
    "duration": 17,
    "start_time": "2022-10-19T10:31:36.658Z"
   },
   {
    "duration": 581,
    "start_time": "2022-10-19T10:31:36.677Z"
   },
   {
    "duration": 206,
    "start_time": "2022-10-19T10:31:37.260Z"
   },
   {
    "duration": 326,
    "start_time": "2022-10-19T10:31:37.467Z"
   },
   {
    "duration": 196,
    "start_time": "2022-10-19T10:31:37.795Z"
   },
   {
    "duration": 304,
    "start_time": "2022-10-19T10:31:37.993Z"
   },
   {
    "duration": 269,
    "start_time": "2022-10-19T10:31:38.300Z"
   },
   {
    "duration": 4,
    "start_time": "2022-10-19T10:31:38.570Z"
   },
   {
    "duration": 170,
    "start_time": "2022-10-19T10:31:38.591Z"
   },
   {
    "duration": 256,
    "start_time": "2022-10-19T10:31:38.762Z"
   },
   {
    "duration": 6,
    "start_time": "2022-10-19T10:31:39.020Z"
   },
   {
    "duration": 169,
    "start_time": "2022-10-19T10:31:39.028Z"
   },
   {
    "duration": 0,
    "start_time": "2022-10-19T10:31:39.198Z"
   },
   {
    "duration": 0,
    "start_time": "2022-10-19T10:31:39.200Z"
   },
   {
    "duration": 10,
    "start_time": "2022-10-19T10:36:06.211Z"
   },
   {
    "duration": 105,
    "start_time": "2022-10-19T10:42:27.696Z"
   },
   {
    "duration": 107,
    "start_time": "2022-10-19T10:43:05.945Z"
   },
   {
    "duration": 113,
    "start_time": "2022-10-19T10:44:44.511Z"
   },
   {
    "duration": 163,
    "start_time": "2022-10-19T10:49:16.258Z"
   },
   {
    "duration": 107,
    "start_time": "2022-10-19T11:15:32.611Z"
   },
   {
    "duration": 108,
    "start_time": "2022-10-19T11:18:02.841Z"
   },
   {
    "duration": 171,
    "start_time": "2022-10-19T11:18:41.972Z"
   },
   {
    "duration": 227,
    "start_time": "2022-10-19T11:19:58.468Z"
   },
   {
    "duration": 370,
    "start_time": "2022-10-19T11:21:25.744Z"
   },
   {
    "duration": 343,
    "start_time": "2022-10-19T11:21:58.957Z"
   },
   {
    "duration": 370,
    "start_time": "2022-10-19T11:22:54.872Z"
   },
   {
    "duration": 336,
    "start_time": "2022-10-19T11:23:30.551Z"
   },
   {
    "duration": 338,
    "start_time": "2022-10-19T11:49:01.679Z"
   },
   {
    "duration": 356,
    "start_time": "2022-10-19T11:49:58.867Z"
   },
   {
    "duration": 409,
    "start_time": "2022-10-19T11:50:15.200Z"
   },
   {
    "duration": 10,
    "start_time": "2022-10-19T12:21:02.250Z"
   },
   {
    "duration": 11,
    "start_time": "2022-10-19T12:24:45.707Z"
   },
   {
    "duration": 1170,
    "start_time": "2022-10-19T12:53:32.033Z"
   },
   {
    "duration": 1195,
    "start_time": "2022-10-19T12:54:26.080Z"
   },
   {
    "duration": 1187,
    "start_time": "2022-10-19T12:55:31.787Z"
   },
   {
    "duration": 8,
    "start_time": "2022-10-19T12:56:13.577Z"
   },
   {
    "duration": 10,
    "start_time": "2022-10-19T12:58:17.264Z"
   },
   {
    "duration": 27,
    "start_time": "2022-10-19T13:00:18.802Z"
   },
   {
    "duration": 24,
    "start_time": "2022-10-19T13:02:13.544Z"
   },
   {
    "duration": 1343,
    "start_time": "2022-10-19T13:07:29.562Z"
   },
   {
    "duration": 13,
    "start_time": "2022-10-19T13:08:07.556Z"
   },
   {
    "duration": 14,
    "start_time": "2022-10-19T13:08:53.693Z"
   },
   {
    "duration": 3,
    "start_time": "2022-10-19T13:40:37.141Z"
   },
   {
    "duration": 129,
    "start_time": "2022-10-19T13:40:37.146Z"
   },
   {
    "duration": 16,
    "start_time": "2022-10-19T13:40:37.276Z"
   },
   {
    "duration": 15,
    "start_time": "2022-10-19T13:40:37.294Z"
   },
   {
    "duration": 14,
    "start_time": "2022-10-19T13:40:37.311Z"
   },
   {
    "duration": 3,
    "start_time": "2022-10-19T13:40:37.327Z"
   },
   {
    "duration": 8,
    "start_time": "2022-10-19T13:40:37.332Z"
   },
   {
    "duration": 10,
    "start_time": "2022-10-19T13:40:37.342Z"
   },
   {
    "duration": 32,
    "start_time": "2022-10-19T13:40:37.354Z"
   },
   {
    "duration": 4,
    "start_time": "2022-10-19T13:40:37.388Z"
   },
   {
    "duration": 12,
    "start_time": "2022-10-19T13:40:37.393Z"
   },
   {
    "duration": 13,
    "start_time": "2022-10-19T13:40:37.407Z"
   },
   {
    "duration": 448,
    "start_time": "2022-10-19T13:40:37.422Z"
   },
   {
    "duration": 196,
    "start_time": "2022-10-19T13:40:37.871Z"
   },
   {
    "duration": 345,
    "start_time": "2022-10-19T13:40:38.068Z"
   },
   {
    "duration": 214,
    "start_time": "2022-10-19T13:40:38.415Z"
   },
   {
    "duration": 279,
    "start_time": "2022-10-19T13:40:38.631Z"
   },
   {
    "duration": 287,
    "start_time": "2022-10-19T13:40:38.912Z"
   },
   {
    "duration": 5,
    "start_time": "2022-10-19T13:40:39.201Z"
   },
   {
    "duration": 184,
    "start_time": "2022-10-19T13:40:39.207Z"
   },
   {
    "duration": 179,
    "start_time": "2022-10-19T13:40:39.393Z"
   },
   {
    "duration": 14,
    "start_time": "2022-10-19T13:40:39.573Z"
   },
   {
    "duration": 430,
    "start_time": "2022-10-19T13:40:39.588Z"
   },
   {
    "duration": 10,
    "start_time": "2022-10-19T13:40:40.020Z"
   },
   {
    "duration": 18,
    "start_time": "2022-10-19T13:40:40.031Z"
   },
   {
    "duration": 37,
    "start_time": "2022-10-19T13:40:40.051Z"
   },
   {
    "duration": 13,
    "start_time": "2022-10-19T13:40:40.090Z"
   },
   {
    "duration": 1060,
    "start_time": "2022-10-20T11:45:23.471Z"
   },
   {
    "duration": 282,
    "start_time": "2022-10-20T11:45:24.533Z"
   },
   {
    "duration": 19,
    "start_time": "2022-10-20T11:45:24.817Z"
   },
   {
    "duration": 14,
    "start_time": "2022-10-20T11:45:24.838Z"
   },
   {
    "duration": 18,
    "start_time": "2022-10-20T11:45:24.854Z"
   },
   {
    "duration": 17,
    "start_time": "2022-10-20T11:45:24.874Z"
   },
   {
    "duration": 12,
    "start_time": "2022-10-20T11:45:24.893Z"
   },
   {
    "duration": 4,
    "start_time": "2022-10-20T11:45:24.907Z"
   },
   {
    "duration": 5,
    "start_time": "2022-10-20T11:45:24.913Z"
   },
   {
    "duration": 6,
    "start_time": "2022-10-20T11:45:24.920Z"
   },
   {
    "duration": 13,
    "start_time": "2022-10-20T11:45:24.928Z"
   },
   {
    "duration": 10,
    "start_time": "2022-10-20T11:45:24.942Z"
   },
   {
    "duration": 519,
    "start_time": "2022-10-20T11:45:24.953Z"
   },
   {
    "duration": 183,
    "start_time": "2022-10-20T11:45:25.474Z"
   },
   {
    "duration": 266,
    "start_time": "2022-10-20T11:45:25.659Z"
   },
   {
    "duration": 182,
    "start_time": "2022-10-20T11:45:25.926Z"
   },
   {
    "duration": 283,
    "start_time": "2022-10-20T11:45:26.109Z"
   },
   {
    "duration": 263,
    "start_time": "2022-10-20T11:45:26.394Z"
   },
   {
    "duration": 5,
    "start_time": "2022-10-20T11:45:26.658Z"
   },
   {
    "duration": 181,
    "start_time": "2022-10-20T11:45:26.665Z"
   },
   {
    "duration": 165,
    "start_time": "2022-10-20T11:45:26.847Z"
   },
   {
    "duration": 4,
    "start_time": "2022-10-20T11:45:27.014Z"
   },
   {
    "duration": 459,
    "start_time": "2022-10-20T11:45:27.019Z"
   },
   {
    "duration": 11,
    "start_time": "2022-10-20T11:45:27.480Z"
   },
   {
    "duration": 18,
    "start_time": "2022-10-20T11:45:27.492Z"
   },
   {
    "duration": 22,
    "start_time": "2022-10-20T11:45:27.512Z"
   },
   {
    "duration": 12,
    "start_time": "2022-10-20T11:45:27.535Z"
   },
   {
    "duration": 955,
    "start_time": "2022-10-20T11:58:51.668Z"
   },
   {
    "duration": 120,
    "start_time": "2022-10-20T11:58:52.626Z"
   },
   {
    "duration": 19,
    "start_time": "2022-10-20T11:58:52.748Z"
   },
   {
    "duration": 16,
    "start_time": "2022-10-20T11:58:52.768Z"
   },
   {
    "duration": 12,
    "start_time": "2022-10-20T11:58:52.787Z"
   },
   {
    "duration": 3,
    "start_time": "2022-10-20T11:58:52.801Z"
   },
   {
    "duration": 8,
    "start_time": "2022-10-20T11:58:52.805Z"
   },
   {
    "duration": 6,
    "start_time": "2022-10-20T11:58:52.815Z"
   },
   {
    "duration": 6,
    "start_time": "2022-10-20T11:58:52.823Z"
   },
   {
    "duration": 8,
    "start_time": "2022-10-20T11:58:52.830Z"
   },
   {
    "duration": 14,
    "start_time": "2022-10-20T11:58:52.840Z"
   },
   {
    "duration": 10,
    "start_time": "2022-10-20T11:58:52.856Z"
   },
   {
    "duration": 507,
    "start_time": "2022-10-20T11:58:52.867Z"
   },
   {
    "duration": 182,
    "start_time": "2022-10-20T11:58:53.377Z"
   },
   {
    "duration": 270,
    "start_time": "2022-10-20T11:58:53.561Z"
   },
   {
    "duration": 181,
    "start_time": "2022-10-20T11:58:53.833Z"
   },
   {
    "duration": 280,
    "start_time": "2022-10-20T11:58:54.016Z"
   },
   {
    "duration": 248,
    "start_time": "2022-10-20T11:58:54.297Z"
   },
   {
    "duration": 4,
    "start_time": "2022-10-20T11:58:54.546Z"
   },
   {
    "duration": 150,
    "start_time": "2022-10-20T11:58:54.551Z"
   },
   {
    "duration": 152,
    "start_time": "2022-10-20T11:58:54.704Z"
   },
   {
    "duration": 4,
    "start_time": "2022-10-20T11:58:54.857Z"
   },
   {
    "duration": 404,
    "start_time": "2022-10-20T11:58:54.863Z"
   },
   {
    "duration": 10,
    "start_time": "2022-10-20T11:58:55.268Z"
   },
   {
    "duration": 19,
    "start_time": "2022-10-20T11:58:55.280Z"
   },
   {
    "duration": 29,
    "start_time": "2022-10-20T11:58:55.301Z"
   },
   {
    "duration": 11,
    "start_time": "2022-10-20T11:58:55.332Z"
   },
   {
    "duration": 1038,
    "start_time": "2022-10-20T12:18:15.681Z"
   },
   {
    "duration": 116,
    "start_time": "2022-10-20T12:18:16.721Z"
   },
   {
    "duration": 20,
    "start_time": "2022-10-20T12:18:16.838Z"
   },
   {
    "duration": 21,
    "start_time": "2022-10-20T12:18:16.859Z"
   },
   {
    "duration": 31,
    "start_time": "2022-10-20T12:18:16.882Z"
   },
   {
    "duration": 4,
    "start_time": "2022-10-20T12:18:16.915Z"
   },
   {
    "duration": 21,
    "start_time": "2022-10-20T12:18:16.920Z"
   },
   {
    "duration": 15,
    "start_time": "2022-10-20T12:18:16.943Z"
   },
   {
    "duration": 20,
    "start_time": "2022-10-20T12:18:16.959Z"
   },
   {
    "duration": 17,
    "start_time": "2022-10-20T12:18:16.981Z"
   },
   {
    "duration": 18,
    "start_time": "2022-10-20T12:18:16.999Z"
   },
   {
    "duration": 29,
    "start_time": "2022-10-20T12:18:17.018Z"
   },
   {
    "duration": 555,
    "start_time": "2022-10-20T12:18:17.048Z"
   },
   {
    "duration": 180,
    "start_time": "2022-10-20T12:18:17.605Z"
   },
   {
    "duration": 326,
    "start_time": "2022-10-20T12:18:17.787Z"
   },
   {
    "duration": 190,
    "start_time": "2022-10-20T12:18:18.115Z"
   },
   {
    "duration": 290,
    "start_time": "2022-10-20T12:18:18.306Z"
   },
   {
    "duration": 250,
    "start_time": "2022-10-20T12:18:18.597Z"
   },
   {
    "duration": 4,
    "start_time": "2022-10-20T12:18:18.849Z"
   },
   {
    "duration": 160,
    "start_time": "2022-10-20T12:18:18.854Z"
   },
   {
    "duration": 163,
    "start_time": "2022-10-20T12:18:19.016Z"
   },
   {
    "duration": 4,
    "start_time": "2022-10-20T12:18:19.181Z"
   },
   {
    "duration": 418,
    "start_time": "2022-10-20T12:18:19.187Z"
   },
   {
    "duration": 11,
    "start_time": "2022-10-20T12:18:19.607Z"
   },
   {
    "duration": 19,
    "start_time": "2022-10-20T12:18:19.619Z"
   },
   {
    "duration": 26,
    "start_time": "2022-10-20T12:18:19.640Z"
   },
   {
    "duration": 13,
    "start_time": "2022-10-20T12:18:19.668Z"
   },
   {
    "duration": 1108,
    "start_time": "2022-10-20T14:17:37.745Z"
   },
   {
    "duration": 125,
    "start_time": "2022-10-20T14:17:38.855Z"
   },
   {
    "duration": 20,
    "start_time": "2022-10-20T14:17:38.982Z"
   },
   {
    "duration": 16,
    "start_time": "2022-10-20T14:17:39.004Z"
   },
   {
    "duration": 16,
    "start_time": "2022-10-20T14:17:51.072Z"
   },
   {
    "duration": 5,
    "start_time": "2022-10-20T14:18:16.251Z"
   },
   {
    "duration": 7,
    "start_time": "2022-10-20T14:18:27.738Z"
   },
   {
    "duration": 4,
    "start_time": "2022-10-20T14:18:49.243Z"
   },
   {
    "duration": 87,
    "start_time": "2022-10-20T14:19:08.940Z"
   },
   {
    "duration": 4,
    "start_time": "2022-10-20T14:19:21.813Z"
   },
   {
    "duration": 4,
    "start_time": "2022-10-20T14:22:21.916Z"
   },
   {
    "duration": 5,
    "start_time": "2022-10-20T14:22:26.726Z"
   },
   {
    "duration": 4,
    "start_time": "2022-10-20T14:22:50.580Z"
   },
   {
    "duration": 5,
    "start_time": "2022-10-20T14:23:11.790Z"
   },
   {
    "duration": 5,
    "start_time": "2022-10-20T14:23:40.203Z"
   },
   {
    "duration": 3,
    "start_time": "2022-10-20T14:26:17.490Z"
   },
   {
    "duration": 71,
    "start_time": "2022-10-20T14:26:17.495Z"
   },
   {
    "duration": 15,
    "start_time": "2022-10-20T14:26:17.568Z"
   },
   {
    "duration": 14,
    "start_time": "2022-10-20T14:26:17.584Z"
   },
   {
    "duration": 13,
    "start_time": "2022-10-20T14:26:17.600Z"
   },
   {
    "duration": 3,
    "start_time": "2022-10-20T14:26:17.614Z"
   },
   {
    "duration": 14,
    "start_time": "2022-10-20T14:26:17.619Z"
   },
   {
    "duration": 10,
    "start_time": "2022-10-20T14:26:17.634Z"
   },
   {
    "duration": 8,
    "start_time": "2022-10-20T14:26:17.645Z"
   },
   {
    "duration": 7,
    "start_time": "2022-10-20T14:26:17.655Z"
   },
   {
    "duration": 14,
    "start_time": "2022-10-20T14:26:17.664Z"
   },
   {
    "duration": 22,
    "start_time": "2022-10-20T14:26:17.679Z"
   },
   {
    "duration": 521,
    "start_time": "2022-10-20T14:26:17.703Z"
   },
   {
    "duration": 196,
    "start_time": "2022-10-20T14:26:18.225Z"
   },
   {
    "duration": 338,
    "start_time": "2022-10-20T14:26:18.422Z"
   },
   {
    "duration": 387,
    "start_time": "2022-10-20T14:26:38.599Z"
   },
   {
    "duration": 282,
    "start_time": "2022-10-20T14:28:08.730Z"
   },
   {
    "duration": 213,
    "start_time": "2022-10-20T14:28:49.458Z"
   },
   {
    "duration": 8,
    "start_time": "2022-10-20T14:33:20.224Z"
   },
   {
    "duration": 3,
    "start_time": "2022-10-20T14:33:26.969Z"
   },
   {
    "duration": 3,
    "start_time": "2022-10-20T14:33:30.865Z"
   },
   {
    "duration": 4,
    "start_time": "2022-10-20T14:33:51.933Z"
   },
   {
    "duration": 4,
    "start_time": "2022-10-20T14:38:17.705Z"
   },
   {
    "duration": 4,
    "start_time": "2022-10-20T14:38:42.219Z"
   },
   {
    "duration": 4,
    "start_time": "2022-10-20T14:39:19.203Z"
   },
   {
    "duration": 177,
    "start_time": "2022-10-20T14:39:58.361Z"
   },
   {
    "duration": 301,
    "start_time": "2022-10-20T14:47:55.892Z"
   },
   {
    "duration": 312,
    "start_time": "2022-10-20T15:27:43.419Z"
   },
   {
    "duration": 477,
    "start_time": "2022-10-20T15:28:13.887Z"
   },
   {
    "duration": 53,
    "start_time": "2022-10-20T15:29:04.695Z"
   },
   {
    "duration": 12,
    "start_time": "2022-10-20T15:30:15.883Z"
   },
   {
    "duration": 17,
    "start_time": "2022-10-20T15:30:33.994Z"
   },
   {
    "duration": 11,
    "start_time": "2022-10-20T15:30:43.184Z"
   },
   {
    "duration": 40,
    "start_time": "2022-10-20T15:31:10.394Z"
   },
   {
    "duration": 9,
    "start_time": "2022-10-20T15:31:30.059Z"
   },
   {
    "duration": 11,
    "start_time": "2022-10-20T15:38:10.875Z"
   },
   {
    "duration": 9,
    "start_time": "2022-10-20T15:39:36.006Z"
   },
   {
    "duration": 9,
    "start_time": "2022-10-20T15:39:57.332Z"
   },
   {
    "duration": 9,
    "start_time": "2022-10-20T15:41:26.580Z"
   },
   {
    "duration": 9,
    "start_time": "2022-10-20T15:41:42.112Z"
   },
   {
    "duration": 10,
    "start_time": "2022-10-20T15:41:50.993Z"
   },
   {
    "duration": 12,
    "start_time": "2022-10-20T15:42:03.426Z"
   },
   {
    "duration": 115,
    "start_time": "2022-10-20T15:47:05.264Z"
   },
   {
    "duration": 14,
    "start_time": "2022-10-20T15:47:23.685Z"
   },
   {
    "duration": 12,
    "start_time": "2022-10-20T15:47:42.058Z"
   },
   {
    "duration": 35,
    "start_time": "2022-10-20T15:47:46.474Z"
   },
   {
    "duration": 10,
    "start_time": "2022-10-20T15:48:18.019Z"
   },
   {
    "duration": 4,
    "start_time": "2022-10-20T15:50:17.985Z"
   },
   {
    "duration": 16,
    "start_time": "2022-10-20T15:50:23.347Z"
   },
   {
    "duration": 50,
    "start_time": "2022-10-20T15:50:31.683Z"
   },
   {
    "duration": 12,
    "start_time": "2022-10-20T15:50:41.752Z"
   },
   {
    "duration": 11,
    "start_time": "2022-10-20T15:51:09.013Z"
   },
   {
    "duration": 11,
    "start_time": "2022-10-20T15:52:53.217Z"
   },
   {
    "duration": 10,
    "start_time": "2022-10-20T15:53:05.910Z"
   },
   {
    "duration": 11,
    "start_time": "2022-10-20T15:53:28.308Z"
   },
   {
    "duration": 1135,
    "start_time": "2022-10-20T16:08:35.032Z"
   },
   {
    "duration": 10,
    "start_time": "2022-10-20T16:09:10.977Z"
   },
   {
    "duration": 9,
    "start_time": "2022-10-20T16:15:47.357Z"
   },
   {
    "duration": 9,
    "start_time": "2022-10-20T16:16:15.405Z"
   },
   {
    "duration": 9,
    "start_time": "2022-10-20T16:16:28.419Z"
   },
   {
    "duration": 9,
    "start_time": "2022-10-20T16:16:29.203Z"
   },
   {
    "duration": 3,
    "start_time": "2022-10-20T16:16:39.406Z"
   },
   {
    "duration": 64,
    "start_time": "2022-10-20T16:16:39.413Z"
   },
   {
    "duration": 22,
    "start_time": "2022-10-20T16:16:39.479Z"
   },
   {
    "duration": 20,
    "start_time": "2022-10-20T16:16:39.503Z"
   },
   {
    "duration": 18,
    "start_time": "2022-10-20T16:16:39.526Z"
   },
   {
    "duration": 10,
    "start_time": "2022-10-20T16:16:39.546Z"
   },
   {
    "duration": 7,
    "start_time": "2022-10-20T16:16:39.558Z"
   },
   {
    "duration": 33,
    "start_time": "2022-10-20T16:16:39.567Z"
   },
   {
    "duration": 11,
    "start_time": "2022-10-20T16:16:39.602Z"
   },
   {
    "duration": 7,
    "start_time": "2022-10-20T16:16:39.615Z"
   },
   {
    "duration": 15,
    "start_time": "2022-10-20T16:16:39.625Z"
   },
   {
    "duration": 15,
    "start_time": "2022-10-20T16:16:39.642Z"
   },
   {
    "duration": 20,
    "start_time": "2022-10-20T16:16:39.658Z"
   },
   {
    "duration": 18,
    "start_time": "2022-10-20T16:16:39.679Z"
   },
   {
    "duration": 26,
    "start_time": "2022-10-20T16:16:39.701Z"
   },
   {
    "duration": 416,
    "start_time": "2022-10-20T16:16:39.729Z"
   },
   {
    "duration": 194,
    "start_time": "2022-10-20T16:16:40.146Z"
   },
   {
    "duration": 276,
    "start_time": "2022-10-20T16:16:40.342Z"
   },
   {
    "duration": 199,
    "start_time": "2022-10-20T16:16:40.619Z"
   },
   {
    "duration": 295,
    "start_time": "2022-10-20T16:16:40.820Z"
   },
   {
    "duration": 165,
    "start_time": "2022-10-20T16:16:41.117Z"
   },
   {
    "duration": 4,
    "start_time": "2022-10-20T16:16:41.284Z"
   },
   {
    "duration": 164,
    "start_time": "2022-10-20T16:16:41.300Z"
   },
   {
    "duration": 179,
    "start_time": "2022-10-20T16:16:41.466Z"
   },
   {
    "duration": 4,
    "start_time": "2022-10-20T16:16:41.647Z"
   },
   {
    "duration": 262,
    "start_time": "2022-10-20T16:16:41.653Z"
   },
   {
    "duration": 8,
    "start_time": "2022-10-20T16:16:41.917Z"
   },
   {
    "duration": 14,
    "start_time": "2022-10-20T16:16:41.926Z"
   },
   {
    "duration": 21,
    "start_time": "2022-10-20T16:16:41.942Z"
   },
   {
    "duration": 37,
    "start_time": "2022-10-20T16:16:41.964Z"
   },
   {
    "duration": 8,
    "start_time": "2022-10-20T16:20:19.729Z"
   },
   {
    "duration": 9,
    "start_time": "2022-10-20T16:20:21.546Z"
   },
   {
    "duration": 12,
    "start_time": "2022-10-20T16:20:25.033Z"
   },
   {
    "duration": 23,
    "start_time": "2022-10-20T16:20:25.047Z"
   },
   {
    "duration": 229,
    "start_time": "2022-10-20T16:20:25.072Z"
   },
   {
    "duration": 0,
    "start_time": "2022-10-20T16:20:25.303Z"
   },
   {
    "duration": 0,
    "start_time": "2022-10-20T16:20:25.305Z"
   },
   {
    "duration": 0,
    "start_time": "2022-10-20T16:20:25.306Z"
   },
   {
    "duration": 0,
    "start_time": "2022-10-20T16:20:25.308Z"
   },
   {
    "duration": 0,
    "start_time": "2022-10-20T16:20:25.309Z"
   },
   {
    "duration": 0,
    "start_time": "2022-10-20T16:20:25.311Z"
   },
   {
    "duration": 0,
    "start_time": "2022-10-20T16:20:25.313Z"
   },
   {
    "duration": 0,
    "start_time": "2022-10-20T16:20:25.318Z"
   },
   {
    "duration": 0,
    "start_time": "2022-10-20T16:20:25.319Z"
   },
   {
    "duration": 0,
    "start_time": "2022-10-20T16:20:25.320Z"
   },
   {
    "duration": 0,
    "start_time": "2022-10-20T16:20:25.321Z"
   },
   {
    "duration": 0,
    "start_time": "2022-10-20T16:20:25.322Z"
   },
   {
    "duration": 0,
    "start_time": "2022-10-20T16:20:25.323Z"
   },
   {
    "duration": 0,
    "start_time": "2022-10-20T16:20:25.324Z"
   },
   {
    "duration": 3,
    "start_time": "2022-10-20T16:21:27.540Z"
   },
   {
    "duration": 65,
    "start_time": "2022-10-20T16:21:27.548Z"
   },
   {
    "duration": 19,
    "start_time": "2022-10-20T16:21:27.615Z"
   },
   {
    "duration": 16,
    "start_time": "2022-10-20T16:21:27.635Z"
   },
   {
    "duration": 15,
    "start_time": "2022-10-20T16:21:27.652Z"
   },
   {
    "duration": 4,
    "start_time": "2022-10-20T16:21:27.669Z"
   },
   {
    "duration": 34,
    "start_time": "2022-10-20T16:21:27.674Z"
   },
   {
    "duration": 10,
    "start_time": "2022-10-20T16:21:27.710Z"
   },
   {
    "duration": 11,
    "start_time": "2022-10-20T16:21:27.722Z"
   },
   {
    "duration": 18,
    "start_time": "2022-10-20T16:21:27.734Z"
   },
   {
    "duration": 25,
    "start_time": "2022-10-20T16:21:27.754Z"
   },
   {
    "duration": 15,
    "start_time": "2022-10-20T16:21:27.781Z"
   },
   {
    "duration": 10,
    "start_time": "2022-10-20T16:21:27.798Z"
   },
   {
    "duration": 10,
    "start_time": "2022-10-20T16:21:27.810Z"
   },
   {
    "duration": 13,
    "start_time": "2022-10-20T16:21:27.823Z"
   },
   {
    "duration": 547,
    "start_time": "2022-10-20T16:21:27.838Z"
   },
   {
    "duration": 198,
    "start_time": "2022-10-20T16:21:28.387Z"
   },
   {
    "duration": 306,
    "start_time": "2022-10-20T16:21:28.587Z"
   },
   {
    "duration": 233,
    "start_time": "2022-10-20T16:21:28.900Z"
   },
   {
    "duration": 275,
    "start_time": "2022-10-20T16:21:29.135Z"
   },
   {
    "duration": 294,
    "start_time": "2022-10-20T16:21:29.411Z"
   },
   {
    "duration": 5,
    "start_time": "2022-10-20T16:21:29.707Z"
   },
   {
    "duration": 152,
    "start_time": "2022-10-20T16:21:29.714Z"
   },
   {
    "duration": 155,
    "start_time": "2022-10-20T16:21:29.868Z"
   },
   {
    "duration": 4,
    "start_time": "2022-10-20T16:21:30.026Z"
   },
   {
    "duration": 337,
    "start_time": "2022-10-20T16:21:30.032Z"
   },
   {
    "duration": 11,
    "start_time": "2022-10-20T16:21:30.370Z"
   },
   {
    "duration": 38,
    "start_time": "2022-10-20T16:21:30.382Z"
   },
   {
    "duration": 46,
    "start_time": "2022-10-20T16:21:30.421Z"
   },
   {
    "duration": 14,
    "start_time": "2022-10-20T16:21:30.469Z"
   },
   {
    "duration": 14,
    "start_time": "2022-10-20T16:28:23.069Z"
   },
   {
    "duration": 10,
    "start_time": "2022-10-20T16:28:29.805Z"
   },
   {
    "duration": 9,
    "start_time": "2022-10-20T16:30:39.374Z"
   },
   {
    "duration": 9,
    "start_time": "2022-10-20T16:30:40.489Z"
   },
   {
    "duration": 3,
    "start_time": "2022-10-20T16:30:51.568Z"
   },
   {
    "duration": 64,
    "start_time": "2022-10-20T16:30:51.572Z"
   },
   {
    "duration": 18,
    "start_time": "2022-10-20T16:30:51.638Z"
   },
   {
    "duration": 16,
    "start_time": "2022-10-20T16:30:51.658Z"
   },
   {
    "duration": 14,
    "start_time": "2022-10-20T16:30:51.676Z"
   },
   {
    "duration": 4,
    "start_time": "2022-10-20T16:30:51.691Z"
   },
   {
    "duration": 12,
    "start_time": "2022-10-20T16:30:51.697Z"
   },
   {
    "duration": 11,
    "start_time": "2022-10-20T16:30:51.710Z"
   },
   {
    "duration": 7,
    "start_time": "2022-10-20T16:30:51.723Z"
   },
   {
    "duration": 10,
    "start_time": "2022-10-20T16:30:51.732Z"
   },
   {
    "duration": 10,
    "start_time": "2022-10-20T16:30:51.745Z"
   },
   {
    "duration": 9,
    "start_time": "2022-10-20T16:30:51.756Z"
   },
   {
    "duration": 10,
    "start_time": "2022-10-20T16:30:55.326Z"
   },
   {
    "duration": 9,
    "start_time": "2022-10-20T16:32:04.642Z"
   },
   {
    "duration": 9,
    "start_time": "2022-10-20T16:32:06.015Z"
   },
   {
    "duration": 2,
    "start_time": "2022-10-20T16:32:45.293Z"
   },
   {
    "duration": 78,
    "start_time": "2022-10-20T16:32:45.323Z"
   },
   {
    "duration": 17,
    "start_time": "2022-10-20T16:32:45.404Z"
   },
   {
    "duration": 28,
    "start_time": "2022-10-20T16:32:45.423Z"
   },
   {
    "duration": 34,
    "start_time": "2022-10-20T16:32:45.453Z"
   },
   {
    "duration": 30,
    "start_time": "2022-10-20T16:32:45.499Z"
   },
   {
    "duration": 28,
    "start_time": "2022-10-20T16:32:45.532Z"
   },
   {
    "duration": 13,
    "start_time": "2022-10-20T16:32:45.562Z"
   },
   {
    "duration": 12,
    "start_time": "2022-10-20T16:32:45.577Z"
   },
   {
    "duration": 10,
    "start_time": "2022-10-20T16:32:45.590Z"
   },
   {
    "duration": 14,
    "start_time": "2022-10-20T16:32:45.603Z"
   },
   {
    "duration": 19,
    "start_time": "2022-10-20T16:32:45.619Z"
   },
   {
    "duration": 27,
    "start_time": "2022-10-20T16:32:45.640Z"
   },
   {
    "duration": 13,
    "start_time": "2022-10-20T16:32:45.668Z"
   },
   {
    "duration": 15,
    "start_time": "2022-10-20T16:32:45.683Z"
   },
   {
    "duration": 459,
    "start_time": "2022-10-20T16:32:45.700Z"
   },
   {
    "duration": 206,
    "start_time": "2022-10-20T16:32:46.161Z"
   },
   {
    "duration": 333,
    "start_time": "2022-10-20T16:32:46.369Z"
   },
   {
    "duration": 286,
    "start_time": "2022-10-20T16:32:46.703Z"
   },
   {
    "duration": 346,
    "start_time": "2022-10-20T16:32:46.990Z"
   },
   {
    "duration": 329,
    "start_time": "2022-10-20T16:32:47.338Z"
   },
   {
    "duration": 4,
    "start_time": "2022-10-20T16:32:47.669Z"
   },
   {
    "duration": 183,
    "start_time": "2022-10-20T16:32:47.675Z"
   },
   {
    "duration": 165,
    "start_time": "2022-10-20T16:32:47.860Z"
   },
   {
    "duration": 4,
    "start_time": "2022-10-20T16:32:48.026Z"
   },
   {
    "duration": 345,
    "start_time": "2022-10-20T16:32:48.032Z"
   },
   {
    "duration": 11,
    "start_time": "2022-10-20T16:32:48.379Z"
   },
   {
    "duration": 9,
    "start_time": "2022-10-20T16:32:48.401Z"
   },
   {
    "duration": 28,
    "start_time": "2022-10-20T16:32:48.413Z"
   },
   {
    "duration": 13,
    "start_time": "2022-10-20T16:32:48.443Z"
   },
   {
    "duration": 299,
    "start_time": "2022-10-20T16:40:21.334Z"
   },
   {
    "duration": 266,
    "start_time": "2022-10-20T16:40:49.751Z"
   },
   {
    "duration": 48,
    "start_time": "2022-10-20T16:41:52.329Z"
   },
   {
    "duration": 333,
    "start_time": "2022-10-20T16:41:57.591Z"
   },
   {
    "duration": 198,
    "start_time": "2022-10-20T16:43:09.622Z"
   },
   {
    "duration": 200,
    "start_time": "2022-10-20T16:43:26.895Z"
   },
   {
    "duration": 14,
    "start_time": "2022-10-20T16:47:31.008Z"
   },
   {
    "duration": 151,
    "start_time": "2022-10-20T16:48:03.361Z"
   },
   {
    "duration": 546,
    "start_time": "2022-10-20T16:48:28.608Z"
   },
   {
    "duration": 15,
    "start_time": "2022-10-20T16:49:25.202Z"
   },
   {
    "duration": 189,
    "start_time": "2022-10-20T16:49:50.184Z"
   },
   {
    "duration": 154,
    "start_time": "2022-10-20T16:51:13.203Z"
   },
   {
    "duration": 158,
    "start_time": "2022-10-20T16:51:39.498Z"
   },
   {
    "duration": 155,
    "start_time": "2022-10-20T16:52:18.703Z"
   },
   {
    "duration": 186,
    "start_time": "2022-10-20T16:52:46.696Z"
   },
   {
    "duration": 207,
    "start_time": "2022-10-20T16:53:28.062Z"
   },
   {
    "duration": 210,
    "start_time": "2022-10-20T16:53:47.065Z"
   },
   {
    "duration": 281,
    "start_time": "2022-10-20T16:54:29.122Z"
   },
   {
    "duration": 157,
    "start_time": "2022-10-20T16:55:19.467Z"
   },
   {
    "duration": 232,
    "start_time": "2022-10-20T16:55:39.549Z"
   },
   {
    "duration": 4,
    "start_time": "2022-10-20T17:19:06.963Z"
   },
   {
    "duration": 64,
    "start_time": "2022-10-20T17:19:06.969Z"
   },
   {
    "duration": 18,
    "start_time": "2022-10-20T17:19:07.035Z"
   },
   {
    "duration": 17,
    "start_time": "2022-10-20T17:19:07.054Z"
   },
   {
    "duration": 15,
    "start_time": "2022-10-20T17:19:07.072Z"
   },
   {
    "duration": 12,
    "start_time": "2022-10-20T17:19:07.088Z"
   },
   {
    "duration": 5,
    "start_time": "2022-10-20T17:19:07.102Z"
   },
   {
    "duration": 8,
    "start_time": "2022-10-20T17:19:07.109Z"
   },
   {
    "duration": 8,
    "start_time": "2022-10-20T17:19:07.119Z"
   },
   {
    "duration": 14,
    "start_time": "2022-10-20T17:19:07.128Z"
   },
   {
    "duration": 14,
    "start_time": "2022-10-20T17:19:07.144Z"
   },
   {
    "duration": 15,
    "start_time": "2022-10-20T17:19:07.159Z"
   },
   {
    "duration": 14,
    "start_time": "2022-10-20T17:19:07.176Z"
   },
   {
    "duration": 18,
    "start_time": "2022-10-20T17:19:07.192Z"
   },
   {
    "duration": 12,
    "start_time": "2022-10-20T17:19:07.211Z"
   },
   {
    "duration": 470,
    "start_time": "2022-10-20T17:19:07.225Z"
   },
   {
    "duration": 209,
    "start_time": "2022-10-20T17:19:07.697Z"
   },
   {
    "duration": 304,
    "start_time": "2022-10-20T17:19:07.908Z"
   },
   {
    "duration": 217,
    "start_time": "2022-10-20T17:19:08.215Z"
   },
   {
    "duration": 307,
    "start_time": "2022-10-20T17:19:08.434Z"
   },
   {
    "duration": 324,
    "start_time": "2022-10-20T17:19:08.743Z"
   },
   {
    "duration": 4,
    "start_time": "2022-10-20T17:19:09.069Z"
   },
   {
    "duration": 175,
    "start_time": "2022-10-20T17:19:09.074Z"
   },
   {
    "duration": 163,
    "start_time": "2022-10-20T17:19:09.251Z"
   },
   {
    "duration": 4,
    "start_time": "2022-10-20T17:19:09.416Z"
   },
   {
    "duration": 438,
    "start_time": "2022-10-20T17:19:09.422Z"
   },
   {
    "duration": 9,
    "start_time": "2022-10-20T17:19:09.862Z"
   },
   {
    "duration": 23,
    "start_time": "2022-10-20T17:19:09.873Z"
   },
   {
    "duration": 24,
    "start_time": "2022-10-20T17:19:09.899Z"
   },
   {
    "duration": 12,
    "start_time": "2022-10-20T17:19:09.924Z"
   },
   {
    "duration": 1217,
    "start_time": "2022-10-21T10:40:59.910Z"
   },
   {
    "duration": 306,
    "start_time": "2022-10-21T10:41:01.129Z"
   },
   {
    "duration": 20,
    "start_time": "2022-10-21T10:41:01.437Z"
   },
   {
    "duration": 49,
    "start_time": "2022-10-21T10:41:01.459Z"
   },
   {
    "duration": 43,
    "start_time": "2022-10-21T10:41:01.510Z"
   },
   {
    "duration": 53,
    "start_time": "2022-10-21T10:41:01.555Z"
   },
   {
    "duration": 20,
    "start_time": "2022-10-21T10:41:01.610Z"
   },
   {
    "duration": 43,
    "start_time": "2022-10-21T10:41:01.631Z"
   },
   {
    "duration": 66,
    "start_time": "2022-10-21T10:41:01.676Z"
   },
   {
    "duration": 25,
    "start_time": "2022-10-21T10:41:01.745Z"
   },
   {
    "duration": 41,
    "start_time": "2022-10-21T10:41:01.772Z"
   },
   {
    "duration": 57,
    "start_time": "2022-10-21T10:41:01.815Z"
   },
   {
    "duration": 44,
    "start_time": "2022-10-21T10:41:01.873Z"
   },
   {
    "duration": 15,
    "start_time": "2022-10-21T10:41:01.921Z"
   },
   {
    "duration": 47,
    "start_time": "2022-10-21T10:41:01.937Z"
   },
   {
    "duration": 554,
    "start_time": "2022-10-21T10:41:01.985Z"
   },
   {
    "duration": 203,
    "start_time": "2022-10-21T10:41:02.540Z"
   },
   {
    "duration": 284,
    "start_time": "2022-10-21T10:41:02.744Z"
   },
   {
    "duration": 207,
    "start_time": "2022-10-21T10:41:03.030Z"
   },
   {
    "duration": 309,
    "start_time": "2022-10-21T10:41:03.239Z"
   },
   {
    "duration": 271,
    "start_time": "2022-10-21T10:41:03.550Z"
   },
   {
    "duration": 4,
    "start_time": "2022-10-21T10:41:03.823Z"
   },
   {
    "duration": 167,
    "start_time": "2022-10-21T10:41:03.829Z"
   },
   {
    "duration": 237,
    "start_time": "2022-10-21T10:41:03.997Z"
   },
   {
    "duration": 4,
    "start_time": "2022-10-21T10:41:04.236Z"
   },
   {
    "duration": 338,
    "start_time": "2022-10-21T10:41:04.242Z"
   },
   {
    "duration": 10,
    "start_time": "2022-10-21T10:41:04.581Z"
   },
   {
    "duration": 32,
    "start_time": "2022-10-21T10:41:04.594Z"
   },
   {
    "duration": 48,
    "start_time": "2022-10-21T10:41:04.628Z"
   },
   {
    "duration": 23,
    "start_time": "2022-10-21T10:41:04.678Z"
   },
   {
    "duration": 1130,
    "start_time": "2022-10-21T10:58:00.562Z"
   },
   {
    "duration": 185,
    "start_time": "2022-10-21T10:58:01.694Z"
   },
   {
    "duration": 22,
    "start_time": "2022-10-21T10:58:01.880Z"
   },
   {
    "duration": 23,
    "start_time": "2022-10-21T10:58:01.904Z"
   },
   {
    "duration": 28,
    "start_time": "2022-10-21T10:58:01.929Z"
   },
   {
    "duration": 11,
    "start_time": "2022-10-21T10:58:01.959Z"
   },
   {
    "duration": 27,
    "start_time": "2022-10-21T10:58:01.972Z"
   },
   {
    "duration": 18,
    "start_time": "2022-10-21T10:58:02.002Z"
   },
   {
    "duration": 45,
    "start_time": "2022-10-21T10:58:02.022Z"
   },
   {
    "duration": 44,
    "start_time": "2022-10-21T10:58:02.068Z"
   },
   {
    "duration": 43,
    "start_time": "2022-10-21T10:58:02.114Z"
   },
   {
    "duration": 45,
    "start_time": "2022-10-21T10:58:02.159Z"
   },
   {
    "duration": 37,
    "start_time": "2022-10-21T10:58:02.205Z"
   },
   {
    "duration": 17,
    "start_time": "2022-10-21T10:58:02.245Z"
   },
   {
    "duration": 19,
    "start_time": "2022-10-21T10:58:02.264Z"
   },
   {
    "duration": 594,
    "start_time": "2022-10-21T10:58:02.285Z"
   },
   {
    "duration": 219,
    "start_time": "2022-10-21T10:58:02.881Z"
   },
   {
    "duration": 348,
    "start_time": "2022-10-21T10:58:03.102Z"
   },
   {
    "duration": 224,
    "start_time": "2022-10-21T10:58:03.452Z"
   },
   {
    "duration": 342,
    "start_time": "2022-10-21T10:58:03.678Z"
   },
   {
    "duration": 317,
    "start_time": "2022-10-21T10:58:04.022Z"
   },
   {
    "duration": 5,
    "start_time": "2022-10-21T10:58:04.342Z"
   },
   {
    "duration": 177,
    "start_time": "2022-10-21T10:58:04.349Z"
   },
   {
    "duration": 237,
    "start_time": "2022-10-21T10:58:04.528Z"
   },
   {
    "duration": 5,
    "start_time": "2022-10-21T10:58:04.768Z"
   },
   {
    "duration": 374,
    "start_time": "2022-10-21T10:58:04.775Z"
   },
   {
    "duration": 14,
    "start_time": "2022-10-21T10:58:05.151Z"
   },
   {
    "duration": 11,
    "start_time": "2022-10-21T10:58:05.167Z"
   },
   {
    "duration": 61,
    "start_time": "2022-10-21T10:58:05.180Z"
   },
   {
    "duration": 18,
    "start_time": "2022-10-21T10:58:05.243Z"
   },
   {
    "duration": 1362,
    "start_time": "2022-10-23T12:54:06.063Z"
   },
   {
    "duration": 128,
    "start_time": "2022-10-23T12:54:07.427Z"
   },
   {
    "duration": 23,
    "start_time": "2022-10-23T12:54:07.557Z"
   },
   {
    "duration": 17,
    "start_time": "2022-10-23T12:54:07.582Z"
   },
   {
    "duration": 16,
    "start_time": "2022-10-23T12:54:07.601Z"
   },
   {
    "duration": 5,
    "start_time": "2022-10-23T12:54:07.618Z"
   },
   {
    "duration": 7,
    "start_time": "2022-10-23T12:54:07.624Z"
   },
   {
    "duration": 9,
    "start_time": "2022-10-23T12:54:07.632Z"
   },
   {
    "duration": 8,
    "start_time": "2022-10-23T12:54:07.643Z"
   },
   {
    "duration": 5,
    "start_time": "2022-10-23T12:54:07.654Z"
   },
   {
    "duration": 48,
    "start_time": "2022-10-23T12:54:07.661Z"
   },
   {
    "duration": 12,
    "start_time": "2022-10-23T12:54:07.711Z"
   },
   {
    "duration": 9,
    "start_time": "2022-10-23T12:54:07.725Z"
   },
   {
    "duration": 14,
    "start_time": "2022-10-23T12:54:07.736Z"
   },
   {
    "duration": 11,
    "start_time": "2022-10-23T12:54:07.751Z"
   },
   {
    "duration": 616,
    "start_time": "2022-10-23T12:54:07.764Z"
   },
   {
    "duration": 216,
    "start_time": "2022-10-23T12:54:08.381Z"
   },
   {
    "duration": 365,
    "start_time": "2022-10-23T12:54:08.599Z"
   },
   {
    "duration": 228,
    "start_time": "2022-10-23T12:54:17.263Z"
   },
   {
    "duration": 253,
    "start_time": "2022-10-23T13:07:43.528Z"
   },
   {
    "duration": 340,
    "start_time": "2022-10-23T13:12:08.010Z"
   },
   {
    "duration": 323,
    "start_time": "2022-10-23T13:12:37.806Z"
   },
   {
    "duration": 392,
    "start_time": "2022-10-23T13:12:47.032Z"
   },
   {
    "duration": 292,
    "start_time": "2022-10-23T13:14:15.171Z"
   },
   {
    "duration": 3,
    "start_time": "2022-10-23T13:18:17.931Z"
   },
   {
    "duration": 62,
    "start_time": "2022-10-23T13:18:17.936Z"
   },
   {
    "duration": 16,
    "start_time": "2022-10-23T13:18:18.000Z"
   },
   {
    "duration": 18,
    "start_time": "2022-10-23T13:18:18.017Z"
   },
   {
    "duration": 14,
    "start_time": "2022-10-23T13:18:18.037Z"
   },
   {
    "duration": 4,
    "start_time": "2022-10-23T13:18:18.052Z"
   },
   {
    "duration": 8,
    "start_time": "2022-10-23T13:18:18.058Z"
   },
   {
    "duration": 5,
    "start_time": "2022-10-23T13:18:18.068Z"
   },
   {
    "duration": 38,
    "start_time": "2022-10-23T13:18:18.075Z"
   },
   {
    "duration": 5,
    "start_time": "2022-10-23T13:18:18.115Z"
   },
   {
    "duration": 10,
    "start_time": "2022-10-23T13:18:18.123Z"
   },
   {
    "duration": 8,
    "start_time": "2022-10-23T13:18:18.135Z"
   },
   {
    "duration": 12,
    "start_time": "2022-10-23T13:18:18.144Z"
   },
   {
    "duration": 11,
    "start_time": "2022-10-23T13:18:18.157Z"
   },
   {
    "duration": 10,
    "start_time": "2022-10-23T13:18:18.169Z"
   },
   {
    "duration": 479,
    "start_time": "2022-10-23T13:18:18.210Z"
   },
   {
    "duration": 206,
    "start_time": "2022-10-23T13:18:18.691Z"
   },
   {
    "duration": 316,
    "start_time": "2022-10-23T13:18:18.899Z"
   },
   {
    "duration": 216,
    "start_time": "2022-10-23T13:18:19.217Z"
   },
   {
    "duration": 334,
    "start_time": "2022-10-23T13:18:19.435Z"
   },
   {
    "duration": 289,
    "start_time": "2022-10-23T13:18:19.771Z"
   },
   {
    "duration": 4,
    "start_time": "2022-10-23T13:18:20.061Z"
   },
   {
    "duration": 170,
    "start_time": "2022-10-23T13:18:20.067Z"
   },
   {
    "duration": 193,
    "start_time": "2022-10-23T13:18:20.239Z"
   },
   {
    "duration": 4,
    "start_time": "2022-10-23T13:18:20.434Z"
   },
   {
    "duration": 383,
    "start_time": "2022-10-23T13:18:20.441Z"
   },
   {
    "duration": 12,
    "start_time": "2022-10-23T13:18:20.826Z"
   },
   {
    "duration": 10,
    "start_time": "2022-10-23T13:18:20.840Z"
   },
   {
    "duration": 26,
    "start_time": "2022-10-23T13:18:20.851Z"
   },
   {
    "duration": 38,
    "start_time": "2022-10-23T13:18:20.879Z"
   },
   {
    "duration": 5,
    "start_time": "2022-10-23T13:19:37.075Z"
   },
   {
    "duration": 4,
    "start_time": "2022-10-23T13:21:45.191Z"
   },
   {
    "duration": 9,
    "start_time": "2022-10-23T13:27:07.897Z"
   },
   {
    "duration": 3,
    "start_time": "2022-10-23T13:39:18.021Z"
   },
   {
    "duration": 60,
    "start_time": "2022-10-23T13:39:18.052Z"
   },
   {
    "duration": 18,
    "start_time": "2022-10-23T13:39:18.114Z"
   },
   {
    "duration": 17,
    "start_time": "2022-10-23T13:39:18.134Z"
   },
   {
    "duration": 15,
    "start_time": "2022-10-23T13:39:18.154Z"
   },
   {
    "duration": 4,
    "start_time": "2022-10-23T13:39:18.171Z"
   },
   {
    "duration": 7,
    "start_time": "2022-10-23T13:39:18.209Z"
   },
   {
    "duration": 5,
    "start_time": "2022-10-23T13:39:18.258Z"
   },
   {
    "duration": 7,
    "start_time": "2022-10-23T13:39:18.266Z"
   },
   {
    "duration": 11,
    "start_time": "2022-10-23T13:39:18.274Z"
   },
   {
    "duration": 12,
    "start_time": "2022-10-23T13:39:18.286Z"
   },
   {
    "duration": 8,
    "start_time": "2022-10-23T13:39:18.300Z"
   },
   {
    "duration": 15,
    "start_time": "2022-10-23T13:39:18.309Z"
   },
   {
    "duration": 12,
    "start_time": "2022-10-23T13:39:18.325Z"
   },
   {
    "duration": 11,
    "start_time": "2022-10-23T13:39:18.338Z"
   },
   {
    "duration": 499,
    "start_time": "2022-10-23T13:39:18.350Z"
   },
   {
    "duration": 275,
    "start_time": "2022-10-23T13:39:18.851Z"
   },
   {
    "duration": 293,
    "start_time": "2022-10-23T13:39:19.128Z"
   },
   {
    "duration": 229,
    "start_time": "2022-10-23T13:39:19.423Z"
   },
   {
    "duration": 294,
    "start_time": "2022-10-23T13:39:19.655Z"
   },
   {
    "duration": 288,
    "start_time": "2022-10-23T13:39:19.951Z"
   },
   {
    "duration": 4,
    "start_time": "2022-10-23T13:39:20.240Z"
   },
   {
    "duration": 169,
    "start_time": "2022-10-23T13:39:20.246Z"
   },
   {
    "duration": 170,
    "start_time": "2022-10-23T13:39:20.416Z"
   },
   {
    "duration": 4,
    "start_time": "2022-10-23T13:39:20.588Z"
   },
   {
    "duration": 347,
    "start_time": "2022-10-23T13:39:20.594Z"
   },
   {
    "duration": 10,
    "start_time": "2022-10-23T13:39:20.942Z"
   },
   {
    "duration": 8,
    "start_time": "2022-10-23T13:39:20.954Z"
   },
   {
    "duration": 29,
    "start_time": "2022-10-23T13:39:20.963Z"
   },
   {
    "duration": 13,
    "start_time": "2022-10-23T13:39:21.009Z"
   },
   {
    "duration": 1256,
    "start_time": "2022-10-23T14:48:19.995Z"
   },
   {
    "duration": 76,
    "start_time": "2022-10-23T14:48:21.254Z"
   },
   {
    "duration": 22,
    "start_time": "2022-10-23T14:48:21.332Z"
   },
   {
    "duration": 19,
    "start_time": "2022-10-23T14:48:21.356Z"
   },
   {
    "duration": 16,
    "start_time": "2022-10-23T14:48:21.377Z"
   },
   {
    "duration": 4,
    "start_time": "2022-10-23T14:48:21.395Z"
   },
   {
    "duration": 18,
    "start_time": "2022-10-23T14:48:21.401Z"
   },
   {
    "duration": 9,
    "start_time": "2022-10-23T14:48:21.421Z"
   },
   {
    "duration": 7,
    "start_time": "2022-10-23T14:48:21.454Z"
   },
   {
    "duration": 13,
    "start_time": "2022-10-23T14:48:21.465Z"
   },
   {
    "duration": 22,
    "start_time": "2022-10-23T14:48:21.481Z"
   },
   {
    "duration": 12,
    "start_time": "2022-10-23T14:48:21.505Z"
   },
   {
    "duration": 41,
    "start_time": "2022-10-23T14:48:21.519Z"
   },
   {
    "duration": 19,
    "start_time": "2022-10-23T14:48:21.562Z"
   },
   {
    "duration": 21,
    "start_time": "2022-10-23T14:48:21.583Z"
   },
   {
    "duration": 669,
    "start_time": "2022-10-23T14:48:21.606Z"
   },
   {
    "duration": 238,
    "start_time": "2022-10-23T14:48:22.277Z"
   },
   {
    "duration": 371,
    "start_time": "2022-10-23T14:48:22.518Z"
   },
   {
    "duration": 244,
    "start_time": "2022-10-23T14:48:22.891Z"
   },
   {
    "duration": 350,
    "start_time": "2022-10-23T14:48:23.137Z"
   },
   {
    "duration": 339,
    "start_time": "2022-10-23T14:48:23.488Z"
   },
   {
    "duration": 6,
    "start_time": "2022-10-23T14:48:23.828Z"
   },
   {
    "duration": 188,
    "start_time": "2022-10-23T14:48:23.836Z"
   },
   {
    "duration": 300,
    "start_time": "2022-10-23T14:48:24.026Z"
   },
   {
    "duration": 5,
    "start_time": "2022-10-23T14:48:24.328Z"
   },
   {
    "duration": 395,
    "start_time": "2022-10-23T14:48:24.335Z"
   },
   {
    "duration": 27,
    "start_time": "2022-10-23T14:48:24.731Z"
   },
   {
    "duration": 9,
    "start_time": "2022-10-23T14:48:24.761Z"
   },
   {
    "duration": 29,
    "start_time": "2022-10-23T14:48:24.772Z"
   },
   {
    "duration": 15,
    "start_time": "2022-10-23T14:48:24.802Z"
   },
   {
    "duration": 1267,
    "start_time": "2022-10-23T14:50:20.247Z"
   },
   {
    "duration": 69,
    "start_time": "2022-10-23T14:50:21.517Z"
   },
   {
    "duration": 31,
    "start_time": "2022-10-23T14:50:21.589Z"
   },
   {
    "duration": 25,
    "start_time": "2022-10-23T14:50:21.623Z"
   },
   {
    "duration": 26,
    "start_time": "2022-10-23T14:50:21.650Z"
   },
   {
    "duration": 16,
    "start_time": "2022-10-23T14:50:21.678Z"
   },
   {
    "duration": 19,
    "start_time": "2022-10-23T14:50:21.696Z"
   },
   {
    "duration": 13,
    "start_time": "2022-10-23T14:50:21.717Z"
   },
   {
    "duration": 44,
    "start_time": "2022-10-23T14:50:21.732Z"
   },
   {
    "duration": 11,
    "start_time": "2022-10-23T14:50:21.780Z"
   },
   {
    "duration": 18,
    "start_time": "2022-10-23T14:50:21.793Z"
   },
   {
    "duration": 19,
    "start_time": "2022-10-23T14:50:21.813Z"
   },
   {
    "duration": 13,
    "start_time": "2022-10-23T14:50:21.834Z"
   },
   {
    "duration": 17,
    "start_time": "2022-10-23T14:50:21.849Z"
   },
   {
    "duration": 16,
    "start_time": "2022-10-23T14:50:21.868Z"
   },
   {
    "duration": 581,
    "start_time": "2022-10-23T14:50:21.886Z"
   },
   {
    "duration": 233,
    "start_time": "2022-10-23T14:50:22.470Z"
   },
   {
    "duration": 319,
    "start_time": "2022-10-23T14:50:22.705Z"
   },
   {
    "duration": 241,
    "start_time": "2022-10-23T14:50:23.026Z"
   },
   {
    "duration": 338,
    "start_time": "2022-10-23T14:50:23.269Z"
   },
   {
    "duration": 333,
    "start_time": "2022-10-23T14:50:23.609Z"
   },
   {
    "duration": 11,
    "start_time": "2022-10-23T14:50:23.944Z"
   },
   {
    "duration": 178,
    "start_time": "2022-10-23T14:50:23.957Z"
   },
   {
    "duration": 270,
    "start_time": "2022-10-23T14:50:24.137Z"
   },
   {
    "duration": 5,
    "start_time": "2022-10-23T14:50:24.409Z"
   },
   {
    "duration": 391,
    "start_time": "2022-10-23T14:50:24.416Z"
   },
   {
    "duration": 12,
    "start_time": "2022-10-23T14:50:24.808Z"
   },
   {
    "duration": 9,
    "start_time": "2022-10-23T14:50:24.823Z"
   },
   {
    "duration": 47,
    "start_time": "2022-10-23T14:50:24.834Z"
   },
   {
    "duration": 15,
    "start_time": "2022-10-23T14:50:24.883Z"
   }
  ],
  "kernelspec": {
   "display_name": "Python 3 (ipykernel)",
   "language": "python",
   "name": "python3"
  },
  "language_info": {
   "codemirror_mode": {
    "name": "ipython",
    "version": 3
   },
   "file_extension": ".py",
   "mimetype": "text/x-python",
   "name": "python",
   "nbconvert_exporter": "python",
   "pygments_lexer": "ipython3",
   "version": "3.9.12"
  },
  "toc": {
   "base_numbering": 1,
   "nav_menu": {},
   "number_sections": true,
   "sideBar": true,
   "skip_h1_title": true,
   "title_cell": "Table of Contents",
   "title_sidebar": "Contents",
   "toc_cell": false,
   "toc_position": {},
   "toc_section_display": true,
   "toc_window_display": false
  }
 },
 "nbformat": 4,
 "nbformat_minor": 2
}
